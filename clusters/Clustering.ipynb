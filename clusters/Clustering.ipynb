{
  "nbformat": 4,
  "nbformat_minor": 0,
  "metadata": {
    "colab": {
      "name": "Clustering.ipynb",
      "provenance": []
    },
    "kernelspec": {
      "name": "python3",
      "display_name": "Python 3"
    },
    "language_info": {
      "name": "python"
    },
    "accelerator": "GPU"
  },
  "cells": [
    {
      "cell_type": "code",
      "metadata": {
        "id": "lZkALIWwK_TG"
      },
      "source": [
        "import pandas as pd\n",
        "import numpy as np"
      ],
      "execution_count": null,
      "outputs": []
    },
    {
      "cell_type": "code",
      "metadata": {
        "colab": {
          "base_uri": "https://localhost:8080/"
        },
        "id": "_NoxuU34LBkQ",
        "outputId": "3fa299a4-8b99-45aa-f3f2-5b0da0035b06"
      },
      "source": [
        "from google.colab import drive\n",
        "drive.mount('/content/drive')"
      ],
      "execution_count": null,
      "outputs": [
        {
          "output_type": "stream",
          "text": [
            "Mounted at /content/drive\n"
          ],
          "name": "stdout"
        }
      ]
    },
    {
      "cell_type": "code",
      "metadata": {
        "id": "e7RVKYqRLYj5"
      },
      "source": [
        "ibge = pd.read_csv(\"/content/drive/MyDrive/datasetVacinas/ibge_completo.csv\")"
      ],
      "execution_count": null,
      "outputs": []
    },
    {
      "cell_type": "code",
      "metadata": {
        "colab": {
          "base_uri": "https://localhost:8080/",
          "height": 572
        },
        "id": "7uZyk5-2Marr",
        "outputId": "e5e9af7d-1bd6-49b4-ef03-ada36ee7ffc3"
      },
      "source": [
        "ibge"
      ],
      "execution_count": null,
      "outputs": [
        {
          "output_type": "execute_result",
          "data": {
            "text/html": [
              "<div>\n",
              "<style scoped>\n",
              "    .dataframe tbody tr th:only-of-type {\n",
              "        vertical-align: middle;\n",
              "    }\n",
              "\n",
              "    .dataframe tbody tr th {\n",
              "        vertical-align: top;\n",
              "    }\n",
              "\n",
              "    .dataframe thead th {\n",
              "        text-align: right;\n",
              "    }\n",
              "</style>\n",
              "<table border=\"1\" class=\"dataframe\">\n",
              "  <thead>\n",
              "    <tr style=\"text-align: right;\">\n",
              "      <th></th>\n",
              "      <th>Município com acento</th>\n",
              "      <th>Regiao</th>\n",
              "      <th>População 2010</th>\n",
              "      <th>Urbana</th>\n",
              "      <th>Rural</th>\n",
              "      <th>Área totalKm2</th>\n",
              "      <th>Densidade demográficaHab./Km2</th>\n",
              "      <th>Postos_Vacinação</th>\n",
              "    </tr>\n",
              "  </thead>\n",
              "  <tbody>\n",
              "    <tr>\n",
              "      <th>0</th>\n",
              "      <td>ADAMANTINA</td>\n",
              "      <td>RA de Presidente Prudente</td>\n",
              "      <td>33797</td>\n",
              "      <td>31948</td>\n",
              "      <td>1849</td>\n",
              "      <td>4114</td>\n",
              "      <td>8216</td>\n",
              "      <td>4</td>\n",
              "    </tr>\n",
              "    <tr>\n",
              "      <th>1</th>\n",
              "      <td>ADOLFO</td>\n",
              "      <td>RA de São José do Rio Preto</td>\n",
              "      <td>3557</td>\n",
              "      <td>3200</td>\n",
              "      <td>357</td>\n",
              "      <td>2111</td>\n",
              "      <td>1685</td>\n",
              "      <td>1</td>\n",
              "    </tr>\n",
              "    <tr>\n",
              "      <th>2</th>\n",
              "      <td>AGUAÍ</td>\n",
              "      <td>RA de Campinas</td>\n",
              "      <td>32148</td>\n",
              "      <td>29001</td>\n",
              "      <td>3147</td>\n",
              "      <td>4747</td>\n",
              "      <td>6772</td>\n",
              "      <td>5</td>\n",
              "    </tr>\n",
              "    <tr>\n",
              "      <th>3</th>\n",
              "      <td>ÁGUAS DA PRATA</td>\n",
              "      <td>RA de Campinas</td>\n",
              "      <td>7584</td>\n",
              "      <td>6771</td>\n",
              "      <td>813</td>\n",
              "      <td>1430</td>\n",
              "      <td>5305</td>\n",
              "      <td>1</td>\n",
              "    </tr>\n",
              "    <tr>\n",
              "      <th>4</th>\n",
              "      <td>ÁGUAS DE LINDÓIA</td>\n",
              "      <td>RA de Campinas</td>\n",
              "      <td>17266</td>\n",
              "      <td>17111</td>\n",
              "      <td>155</td>\n",
              "      <td>601</td>\n",
              "      <td>28716</td>\n",
              "      <td>4</td>\n",
              "    </tr>\n",
              "    <tr>\n",
              "      <th>...</th>\n",
              "      <td>...</td>\n",
              "      <td>...</td>\n",
              "      <td>...</td>\n",
              "      <td>...</td>\n",
              "      <td>...</td>\n",
              "      <td>...</td>\n",
              "      <td>...</td>\n",
              "      <td>...</td>\n",
              "    </tr>\n",
              "    <tr>\n",
              "      <th>640</th>\n",
              "      <td>VISTA ALEGRE DO ALTO</td>\n",
              "      <td>RA de Barretos</td>\n",
              "      <td>6886</td>\n",
              "      <td>6352</td>\n",
              "      <td>534</td>\n",
              "      <td>950</td>\n",
              "      <td>7250</td>\n",
              "      <td>1</td>\n",
              "    </tr>\n",
              "    <tr>\n",
              "      <th>641</th>\n",
              "      <td>VITÓRIA BRASIL</td>\n",
              "      <td>RA de São José do Rio Preto</td>\n",
              "      <td>1737</td>\n",
              "      <td>1435</td>\n",
              "      <td>302</td>\n",
              "      <td>497</td>\n",
              "      <td>3495</td>\n",
              "      <td>1</td>\n",
              "    </tr>\n",
              "    <tr>\n",
              "      <th>642</th>\n",
              "      <td>VOTORANTIM</td>\n",
              "      <td>RA de Sorocaba</td>\n",
              "      <td>108809</td>\n",
              "      <td>104659</td>\n",
              "      <td>4150</td>\n",
              "      <td>1837</td>\n",
              "      <td>59247</td>\n",
              "      <td>17</td>\n",
              "    </tr>\n",
              "    <tr>\n",
              "      <th>643</th>\n",
              "      <td>VOTUPORANGA</td>\n",
              "      <td>RA de São José do Rio Preto</td>\n",
              "      <td>84692</td>\n",
              "      <td>82319</td>\n",
              "      <td>2373</td>\n",
              "      <td>4241</td>\n",
              "      <td>19969</td>\n",
              "      <td>19</td>\n",
              "    </tr>\n",
              "    <tr>\n",
              "      <th>644</th>\n",
              "      <td>ZACARIAS</td>\n",
              "      <td>RA de São José do Rio Preto</td>\n",
              "      <td>2335</td>\n",
              "      <td>1836</td>\n",
              "      <td>499</td>\n",
              "      <td>3191</td>\n",
              "      <td>732</td>\n",
              "      <td>1</td>\n",
              "    </tr>\n",
              "  </tbody>\n",
              "</table>\n",
              "<p>645 rows × 8 columns</p>\n",
              "</div>"
            ],
            "text/plain": [
              "     Município com acento  ... Postos_Vacinação\n",
              "0              ADAMANTINA  ...                4\n",
              "1                  ADOLFO  ...                1\n",
              "2                   AGUAÍ  ...                5\n",
              "3          ÁGUAS DA PRATA  ...                1\n",
              "4        ÁGUAS DE LINDÓIA  ...                4\n",
              "..                    ...  ...              ...\n",
              "640  VISTA ALEGRE DO ALTO  ...                1\n",
              "641        VITÓRIA BRASIL  ...                1\n",
              "642            VOTORANTIM  ...               17\n",
              "643           VOTUPORANGA  ...               19\n",
              "644              ZACARIAS  ...                1\n",
              "\n",
              "[645 rows x 8 columns]"
            ]
          },
          "metadata": {
            "tags": []
          },
          "execution_count": 5
        }
      ]
    },
    {
      "cell_type": "code",
      "metadata": {
        "colab": {
          "base_uri": "https://localhost:8080/"
        },
        "id": "nIhdgBuiMt0m",
        "outputId": "28c55fcc-b37b-4603-c300-cc94c23cc79a"
      },
      "source": [
        "sjc = np.where( (ibge['Município com acento'] == 'SÃO JOSÉ DOS CAMPOS').values==True)[0]\n",
        "print(sjc)"
      ],
      "execution_count": null,
      "outputs": [
        {
          "output_type": "stream",
          "text": [
            "[559]\n"
          ],
          "name": "stdout"
        }
      ]
    },
    {
      "cell_type": "code",
      "metadata": {
        "id": "dW7hrUCWM24x"
      },
      "source": [
        "data = ibge.iloc[:, 2:8].values # 6 colunas\n",
        "#data = ibge.iloc[:, 4:6].values # 2 colunas"
      ],
      "execution_count": null,
      "outputs": []
    },
    {
      "cell_type": "code",
      "metadata": {
        "colab": {
          "base_uri": "https://localhost:8080/"
        },
        "id": "t05j9G5WM5Iz",
        "outputId": "d4f5ea8f-390b-488a-9307-7986f17e6d33"
      },
      "source": [
        "data"
      ],
      "execution_count": null,
      "outputs": [
        {
          "output_type": "execute_result",
          "data": {
            "text/plain": [
              "array([[ 33797,  31948,   1849,   4114,   8216,      4],\n",
              "       [  3557,   3200,    357,   2111,   1685,      1],\n",
              "       [ 32148,  29001,   3147,   4747,   6772,      5],\n",
              "       ...,\n",
              "       [108809, 104659,   4150,   1837,  59247,     17],\n",
              "       [ 84692,  82319,   2373,   4241,  19969,     19],\n",
              "       [  2335,   1836,    499,   3191,    732,      1]])"
            ]
          },
          "metadata": {
            "tags": []
          },
          "execution_count": 8
        }
      ]
    },
    {
      "cell_type": "code",
      "metadata": {
        "id": "mry9qrH5NSl3"
      },
      "source": [
        "from sklearn.cluster import KMeans\n",
        "from sklearn import preprocessing"
      ],
      "execution_count": null,
      "outputs": []
    },
    {
      "cell_type": "code",
      "metadata": {
        "colab": {
          "base_uri": "https://localhost:8080/"
        },
        "id": "KFVwPtlmNWke",
        "outputId": "e0c637e9-6092-4b2c-aba6-50309c9cb219"
      },
      "source": [
        "min_max_scaler = preprocessing.MinMaxScaler()\n",
        "scaled_data = min_max_scaler.fit_transform(data)\n",
        "print(scaled_data)"
      ],
      "execution_count": null,
      "outputs": [
        {
          "output_type": "stream",
          "text": [
            "[[2.93191908e-03 2.80862579e-03 1.82781562e-02 2.05882353e-01\n",
            "  6.26669447e-03 4.25531915e-03]\n",
            " [2.44563570e-04 2.30726802e-04 3.52909776e-03 1.04310345e-01\n",
            "  1.04831100e-03 0.00000000e+00]\n",
            " [2.78537645e-03 2.54436155e-03 3.11094416e-02 2.37981744e-01\n",
            "  5.11291316e-03 5.67375887e-03]\n",
            " ...\n",
            " [9.59805373e-03 9.32878767e-03 4.10245257e-02 9.04158215e-02\n",
            "  4.70413579e-02 2.26950355e-02]\n",
            " [7.45483439e-03 7.32550871e-03 2.34581204e-02 2.12322515e-01\n",
            "  1.56575475e-02 2.55319149e-02]\n",
            " [1.35967392e-04 1.08413799e-04 4.93282852e-03 1.59077079e-01\n",
            "  2.86847293e-04 0.00000000e+00]]\n"
          ],
          "name": "stdout"
        }
      ]
    },
    {
      "cell_type": "code",
      "metadata": {
        "id": "No1EJ4EqNi7a"
      },
      "source": [
        "kmeans = KMeans(n_clusters=20, random_state=0).fit(scaled_data)"
      ],
      "execution_count": null,
      "outputs": []
    },
    {
      "cell_type": "code",
      "metadata": {
        "colab": {
          "base_uri": "https://localhost:8080/"
        },
        "id": "sTGsN9p9N7mm",
        "outputId": "283d3785-6bbf-481f-8a40-4923fd63594b"
      },
      "source": [
        "relevancia = kmeans.labels_\n",
        "print(relevancia) # utilize esta informação para a tarefa de recuperação"
      ],
      "execution_count": null,
      "outputs": [
        {
          "output_type": "stream",
          "text": [
            "[ 7  9  7  1  1  7 13  5  1  1 16  5 16  1 16 16  1  1 18  1  9 10 16  5\n",
            "  5  8 16  1  9  5  1 14  9  9 16  1  5  8  9  0 16  1  1  9 13  1  7 10\n",
            "  7  0 16 14  1  1  1  0  1  9  7  1  7  5  2  1  6  9  5  8  8 16  9  7\n",
            "  1  0 16  8 16  8  9  1  1  1  1  0 16  2  0  9  1 16 14 14 16  9  9  9\n",
            " 10 16  7  5  9 13  0 13  7  9  8  9 17 13 16  7 14  1  0  1  1  2  9 16\n",
            "  7  3  0  5  9  5 16  1  9  0  1  9  9  9  1  7  8  9  7  1  9 16 16  1\n",
            "  7 16 16  7  1 16 13  2  8  3  1  9  1  0  1  9  7  9  1  0  2  9  1  1\n",
            "  6  1  9  1  7  9  1 16  9  0  7  1  0  1 11  9  9  0  9  0  6 13  1 16\n",
            "  0  9  9  7  8 16 16  9 14 16 10 16  0  0  1  7  5 16  8  0 16 18 15  7\n",
            "  9 16  1  6  0 16  7 16 16  9  8 12 16  0  1  7 16 19  9  8 16 16  1 16\n",
            "  1  9  9  9  1 14  7  1  9  9 14 14  0  9  0  9 13 19 19  6  0  7  5  0\n",
            "  1 16  6  5 16 10  5  0  1  1  8  9  8 16  8  7  1  8  1 16  9 11  0  9\n",
            "  8  1 16  7  5  1  1 10  0  8  0  9  7  0  1  7  8  0  1  0  7  1 13 16\n",
            "  9  0  1  1  7  9  9 16 16  9 10  9  5  0  1  9 14  1 14  0 11  9  9  1\n",
            "  8  9  9  5  5 14  9  1  5 17  8  0  1  1  1  1 16  7  9  9  9 16  2  1\n",
            "  9  9 16 16  8 16  9  7  1  9  7  1  9  1  0  1  9  1 13  1  5 16 16  9\n",
            "  8  9  9  9 16  3  9  9 16  9 16 16  8  1 16  0 16  5  8  1  5  1 16  9\n",
            " 16  1  0 16 13  9  8  8  1  9  8  1  1  8  8  5  9 16  9 17  8  8  9  1\n",
            "  7  9  7 14  0  8  9  1  7  8  7  7 16 16 11  1  8  9 16  9  9 16  9  0\n",
            "  9 13 16  1  1 18  9 16  8 14  0  8  8  9  8  9  9 16  1  2 16  9  7  8\n",
            "  9 16  7  8  1  9  9 16 13  8  1 16 16  0  9 13  0  7  8  1  9  9 16  1\n",
            " 16 16  7  1  1 13 16  9  7 16 16 16 16  9  1  1 16 14  1  9  1 10  1  9\n",
            "  1  9  8 16  1  1 13  0  6 16  1 14  1  1  1  1 18  9 10  3 14  1  0  1\n",
            "  9  1  7 16  0  7 10 14  9  0  8  5  4  0  8 16  7  9  0 18 16  1  1 16\n",
            "  9  1  7  5  1  7 10 10  0 18 16 18 16 16  3  0  1  1  1  0  8  8  9  1\n",
            "  0  7  9  9 16  0  0 16  2  9  7  9  1 16  1  9  1  1  0  9  1  1  9  8\n",
            " 16  9  1  9  1 16  1 13  5  1  9 13  6  9 13  9  1  1 13  7 16]\n"
          ],
          "name": "stdout"
        }
      ]
    },
    {
      "cell_type": "code",
      "metadata": {
        "colab": {
          "base_uri": "https://localhost:8080/"
        },
        "id": "3cxVGEOuN9fP",
        "outputId": "00cd22b5-0704-4020-ac73-2cd29128a684"
      },
      "source": [
        "hist,bin_edges = np.histogram(relevancia, range=(0, relevancia.max()), bins=relevancia.max() + 1)\n",
        "print(hist)"
      ],
      "execution_count": null,
      "outputs": [
        {
          "output_type": "stream",
          "text": [
            "[ 58 137   8   5   1  27   8  53  50 127  12   4   1  20  18   1 102   3\n",
            "   7   3]\n"
          ],
          "name": "stdout"
        }
      ]
    },
    {
      "cell_type": "code",
      "metadata": {
        "colab": {
          "base_uri": "https://localhost:8080/",
          "height": 525
        },
        "id": "eNxHCeUXOFTL",
        "outputId": "56183e54-0f18-449c-fae0-fe4dc0d9fc23"
      },
      "source": [
        "import matplotlib.pyplot as plt\n",
        "\n",
        "plt.figure(figsize=[10,8])\n",
        "\n",
        "plt.bar(bin_edges[:-1], hist, width = 0.25, color='#0504aa',alpha=0.5)\n",
        "plt.xlim(min(bin_edges)-1, max(bin_edges))\n",
        "plt.grid(axis='y', alpha=0.75)\n",
        "plt.xlabel('Cluster',fontsize=15)\n",
        "plt.ylabel('Frequencia',fontsize=15)\n",
        "plt.xticks(fontsize=15)\n",
        "plt.yticks(fontsize=15)\n",
        "plt.ylabel('Frequency',fontsize=15)\n",
        "plt.title('Histograma dos Clusters',fontsize=15)\n",
        "plt.show()"
      ],
      "execution_count": null,
      "outputs": [
        {
          "output_type": "display_data",
          "data": {
            "image/png": "[encoded data removed]",
            "text/plain": [
              "<Figure size 720x576 with 1 Axes>"
            ]
          },
          "metadata": {
            "tags": [],
            "needs_background": "light"
          }
        }
      ]
    },
    {
      "cell_type": "code",
      "metadata": {
        "colab": {
          "base_uri": "https://localhost:8080/"
        },
        "id": "BIqfIiMoORaP",
        "outputId": "5f5060a4-cdef-4510-c51f-9cd0bab3013f"
      },
      "source": [
        "cluster_sjc = kmeans.labels_[sjc]\n",
        "print(cluster_sjc)"
      ],
      "execution_count": null,
      "outputs": [
        {
          "output_type": "stream",
          "text": [
            "[14]\n"
          ],
          "name": "stdout"
        }
      ]
    },
    {
      "cell_type": "code",
      "metadata": {
        "colab": {
          "base_uri": "https://localhost:8080/"
        },
        "id": "ZaKFeBrpOZxi",
        "outputId": "8903acb3-fa5c-48a8-b8fb-c06dbbba4924"
      },
      "source": [
        "posicoes_cidades_similares = np.where( kmeans.labels_ == cluster_sjc)\n",
        "print(posicoes_cidades_similares)"
      ],
      "execution_count": null,
      "outputs": [
        {
          "output_type": "stream",
          "text": [
            "(array([ 31,  51,  90,  91, 112, 200, 245, 250, 251, 328, 330, 341, 435,\n",
            "       465, 521, 539, 548, 559]),)\n"
          ],
          "name": "stdout"
        }
      ]
    },
    {
      "cell_type": "code",
      "metadata": {
        "colab": {
          "base_uri": "https://localhost:8080/"
        },
        "id": "rpzIbdZ8ObCZ",
        "outputId": "d9294a29-bef9-4ffa-f3d6-4f6b92689c47"
      },
      "source": [
        "nomes_das_cidades_similares = ibge['Município com acento'][posicoes_cidades_similares[0]]\n",
        "print(nomes_das_cidades_similares)"
      ],
      "execution_count": null,
      "outputs": [
        {
          "output_type": "stream",
          "text": [
            "31                      ARAÇATUBA\n",
            "51                          AVARÉ\n",
            "90                         BROTAS\n",
            "91                           BURI\n",
            "112                      CANANÉIA\n",
            "200                        GUAÍRA\n",
            "245                      IPORANGA\n",
            "250                       ITABERÁ\n",
            "251                          ITAÍ\n",
            "328                       MARÍLIA\n",
            "330                  MARTINÓPOLIS\n",
            "341       MIRANTE DO PARANAPANEMA\n",
            "435                    PIRACICABA\n",
            "465           PRESIDENTE EPITÁCIO\n",
            "521       SANTA CRUZ DO RIO PARDO\n",
            "539    SANTO ANTÔNIO DO ARACANGUÁ\n",
            "548                    SÃO CARLOS\n",
            "559           SÃO JOSÉ DOS CAMPOS\n",
            "Name: Município com acento, dtype: object\n"
          ],
          "name": "stdout"
        }
      ]
    },
    {
      "cell_type": "code",
      "metadata": {
        "colab": {
          "base_uri": "https://localhost:8080/",
          "height": 265
        },
        "id": "TnmtH9gCOgov",
        "outputId": "61988e97-5fa5-4a45-b316-eaa6aedcce1c"
      },
      "source": [
        "import matplotlib.pyplot as plt\n",
        "\n",
        "#filter rows of original data\n",
        "filtered_label0 = scaled_data[kmeans.labels_ == cluster_sjc]\n",
        "\n",
        "#plotting the results\n",
        "plt.scatter(filtered_label0[:,0] , filtered_label0[:,1]) # de acordo com \"População 2010\" e \t\"Urbana\"\n",
        "plt.show()"
      ],
      "execution_count": null,
      "outputs": [
        {
          "output_type": "display_data",
          "data": {
            "image/png": "[encoded data removed]",
            "text/plain": [
              "<Figure size 432x288 with 1 Axes>"
            ]
          },
          "metadata": {
            "tags": [],
            "needs_background": "light"
          }
        }
      ]
    },
    {
      "cell_type": "code",
      "metadata": {
        "colab": {
          "base_uri": "https://localhost:8080/",
          "height": 265
        },
        "id": "6mNpUpuIOo4L",
        "outputId": "e29dc328-a069-46c6-a56c-efed6e6ae8dd"
      },
      "source": [
        "u_labels = np.unique(kmeans.labels_)\n",
        " \n",
        "#plotting the results:\n",
        " \n",
        "for i in u_labels:\n",
        "  # plote de acordo com atributos \"Área totalKm2\" e \"Densidade demográfica Hab./Km2\"\n",
        "  plt.scatter(scaled_data[kmeans.labels_ == i , 3],scaled_data[kmeans.labels_ == i,4], label=i) \n",
        "#plt.legend(loc='right')\n",
        "plt.show()"
      ],
      "execution_count": null,
      "outputs": [
        {
          "output_type": "display_data",
          "data": {
            "image/png": "[encoded data removed]",
            "text/plain": [
              "<Figure size 432x288 with 1 Axes>"
            ]
          },
          "metadata": {
            "tags": [],
            "needs_background": "light"
          }
        }
      ]
    },
    {
      "cell_type": "code",
      "metadata": {
        "colab": {
          "base_uri": "https://localhost:8080/"
        },
        "id": "AaVc0mrjOuQa",
        "outputId": "cf8a0e42-1d15-489a-ce14-556eb8e32f09"
      },
      "source": [
        "from sklearn.datasets import load_digits\n",
        "from sklearn.decomposition import PCA\n",
        "\n",
        "#apenas 2 atributos == componentes principais do PCA\n",
        "pca = PCA(2)\n",
        "\n",
        "#Transform the data\n",
        "data_pca = pca.fit_transform(scaled_data)\n",
        "print(data_pca)"
      ],
      "execution_count": null,
      "outputs": [
        {
          "output_type": "stream",
          "text": [
            "[[ 0.01331656 -0.01947806]\n",
            " [-0.08838002 -0.03033044]\n",
            " [ 0.04674677 -0.01693864]\n",
            " ...\n",
            " [-0.09885533  0.02914959]\n",
            " [ 0.02133294 -0.00182129]\n",
            " [-0.03440852 -0.03059084]]\n"
          ],
          "name": "stdout"
        }
      ]
    },
    {
      "cell_type": "code",
      "metadata": {
        "colab": {
          "base_uri": "https://localhost:8080/",
          "height": 334
        },
        "id": "OAZoQ_frO1W4",
        "outputId": "7d5650ad-7c7f-4980-e36b-49269fb5e4ff"
      },
      "source": [
        "u_labels = np.unique(kmeans.labels_)\n",
        " \n",
        "#plotting the results:\n",
        " \n",
        "for i in u_labels:\n",
        "  # plote de acordo com atributos \"Área totalKm2\" e \"Densidade demográfica Hab./Km2\"\n",
        "  plt.scatter(data_pca[kmeans.labels_ == i , 0],data_pca[kmeans.labels_ == i,1], label=i) \n",
        "plt.legend(bbox_to_anchor=(1.1, 1.05))\n",
        "plt.show()"
      ],
      "execution_count": null,
      "outputs": [
        {
          "output_type": "display_data",
          "data": {
            "image/png": "[encoded data removed]",
            "text/plain": [
              "<Figure size 432x288 with 1 Axes>"
            ]
          },
          "metadata": {
            "tags": [],
            "needs_background": "light"
          }
        }
      ]
    },
    {
      "cell_type": "code",
      "metadata": {
        "colab": {
          "base_uri": "https://localhost:8080/"
        },
        "id": "lvm3RiY6O_dK",
        "outputId": "59cf18b0-069d-4b38-b4f4-b44804ce5dc8"
      },
      "source": [
        "np.where(np.max(data_pca)==data_pca)\n",
        "print(ibge.values[564])"
      ],
      "execution_count": null,
      "outputs": [
        {
          "output_type": "stream",
          "text": [
            "['SÃO PAULO' 'RM de São Paulo' 11253503 11152344 101159 15233 738769 706]\n"
          ],
          "name": "stdout"
        }
      ]
    },
    {
      "cell_type": "code",
      "metadata": {
        "colab": {
          "base_uri": "https://localhost:8080/"
        },
        "id": "7KCIELxNPBjZ",
        "outputId": "97e7963f-f61e-4fa6-db9e-1f053c39099b"
      },
      "source": [
        "from sklearn.datasets import load_digits\n",
        "from sklearn.decomposition import PCA\n",
        "\n",
        "#apenas 2 atributos == componentes principais do PCA\n",
        "pca = PCA(2) \n",
        "data_scaled_sem_sp = np.delete(scaled_data, 564, 0)\n",
        "\n",
        "#Transform the data\n",
        "data_pca = pca.fit_transform(data_scaled_sem_sp )\n",
        "print(data_pca)"
      ],
      "execution_count": null,
      "outputs": [
        {
          "output_type": "stream",
          "text": [
            "[[ 0.0159807  -0.01497255]\n",
            " [-0.08474954 -0.03548507]\n",
            " [ 0.04897034 -0.01110374]\n",
            " ...\n",
            " [-0.10116423  0.01183467]\n",
            " [ 0.02188859 -0.00246873]\n",
            " [-0.03057519 -0.02850928]]\n"
          ],
          "name": "stdout"
        }
      ]
    },
    {
      "cell_type": "code",
      "metadata": {
        "colab": {
          "base_uri": "https://localhost:8080/",
          "height": 319
        },
        "id": "k5U9zEXmPQ-C",
        "outputId": "0e033bf3-bbe4-42da-90de-c42260c0c835"
      },
      "source": [
        "kmeans.labels_sem_sp = np.delete(kmeans.labels_, 564, 0)\n",
        "u_labels = np.unique(kmeans.labels_sem_sp)\n",
        " \n",
        "#plotting the results:\n",
        " \n",
        "for i in u_labels:\n",
        "  # plote de acordo com atributos \"Área totalKm2\" e \"Densidade demográfica Hab./Km2\"\n",
        "  plt.scatter(data_pca[kmeans.labels_sem_sp == i , 0],data_pca[kmeans.labels_sem_sp == i,1], label=i) \n",
        "#plt.legend(loc='right')\n",
        "plt.legend(bbox_to_anchor=(1.1, 1.05))\n",
        "plt.show()"
      ],
      "execution_count": null,
      "outputs": [
        {
          "output_type": "display_data",
          "data": {
            "image/png": "[encoded data removed]",
            "text/plain": [
              "<Figure size 432x288 with 1 Axes>"
            ]
          },
          "metadata": {
            "tags": [],
            "needs_background": "light"
          }
        }
      ]
    },
    {
      "cell_type": "code",
      "metadata": {
        "colab": {
          "base_uri": "https://localhost:8080/",
          "height": 282
        },
        "id": "uvc4jx9XPWoV",
        "outputId": "587f776c-5267-4389-d9ed-d7b43e58e18a"
      },
      "source": [
        "centroids = kmeans.cluster_centers_\n",
        "u_labels = np.unique(relevancia)\n",
        " \n",
        "plt.scatter(centroids[:,0] , centroids[:,1] , s = 80, color = 'k')\n",
        "plt.legend()\n",
        "plt.show()"
      ],
      "execution_count": null,
      "outputs": [
        {
          "output_type": "stream",
          "text": [
            "No handles with labels found to put in legend.\n"
          ],
          "name": "stderr"
        },
        {
          "output_type": "display_data",
          "data": {
            "image/png": "[encoded data removed]",
            "text/plain": [
              "<Figure size 432x288 with 1 Axes>"
            ]
          },
          "metadata": {
            "tags": [],
            "needs_background": "light"
          }
        }
      ]
    },
    {
      "cell_type": "markdown",
      "metadata": {
        "id": "l8VS_hwXdw35"
      },
      "source": [
        "**Definindo colunas que serão trabalhadas**"
      ]
    },
    {
      "cell_type": "code",
      "metadata": {
        "colab": {
          "base_uri": "https://localhost:8080/"
        },
        "id": "6xwDgU4dXPnG",
        "outputId": "12b82cef-27e2-4339-d1db-c702806e49a9"
      },
      "source": [
        "data = ibge.iloc[:, 5:7].values \n",
        "data"
      ],
      "execution_count": null,
      "outputs": [
        {
          "output_type": "execute_result",
          "data": {
            "text/plain": [
              "array([[ 4114,  8216],\n",
              "       [ 2111,  1685],\n",
              "       [ 4747,  6772],\n",
              "       ...,\n",
              "       [ 1837, 59247],\n",
              "       [ 4241, 19969],\n",
              "       [ 3191,   732]])"
            ]
          },
          "metadata": {
            "tags": []
          },
          "execution_count": 32
        }
      ]
    },
    {
      "cell_type": "markdown",
      "metadata": {
        "id": "FGYTzWlaYByw"
      },
      "source": [
        "**Normalizar dados ultilizando média/desvio**\n"
      ]
    },
    {
      "cell_type": "code",
      "metadata": {
        "colab": {
          "base_uri": "https://localhost:8080/"
        },
        "id": "bN5nABZpPdPv",
        "outputId": "f956a3a2-e463-44db-88c5-09c1d7f0ea5b"
      },
      "source": [
        "min_max_scaler = preprocessing.MinMaxScaler()\n",
        "scaled_data = min_max_scaler.fit_transform(data)\n",
        "print(scaled_data)"
      ],
      "execution_count": null,
      "outputs": [
        {
          "output_type": "stream",
          "text": [
            "[[0.20588235 0.00626669]\n",
            " [0.10431034 0.00104831]\n",
            " [0.23798174 0.00511291]\n",
            " ...\n",
            " [0.09041582 0.04704136]\n",
            " [0.21232252 0.01565755]\n",
            " [0.15907708 0.00028685]]\n"
          ],
          "name": "stdout"
        }
      ]
    },
    {
      "cell_type": "code",
      "metadata": {
        "id": "atG03LXZWR70"
      },
      "source": [
        "kmeans = KMeans(n_clusters=20, random_state=0).fit(scaled_data)"
      ],
      "execution_count": null,
      "outputs": []
    },
    {
      "cell_type": "code",
      "metadata": {
        "colab": {
          "base_uri": "https://localhost:8080/",
          "height": 265
        },
        "id": "H5Lxbv1IXe_7",
        "outputId": "18819b47-9b17-4fb4-b4cc-5ebd5bd7e911"
      },
      "source": [
        "import matplotlib.pyplot as plt\n",
        "\n",
        "#filter rows of original data\n",
        "filtered_label0 = scaled_data[kmeans.labels_]\n",
        "\n",
        "#plotting the results\n",
        "plt.scatter(filtered_label0[:,0] , filtered_label0[:,1]) \n",
        "plt.show()"
      ],
      "execution_count": null,
      "outputs": [
        {
          "output_type": "display_data",
          "data": {
            "image/png": "[encoded data removed]",
            "text/plain": [
              "<Figure size 432x288 with 1 Axes>"
            ]
          },
          "metadata": {
            "tags": [],
            "needs_background": "light"
          }
        }
      ]
    },
    {
      "cell_type": "code",
      "metadata": {
        "colab": {
          "base_uri": "https://localhost:8080/",
          "height": 265
        },
        "id": "Ebj7aXY-YeuG",
        "outputId": "ca8ea07a-1fb3-499f-94d2-9f4eb75e1bd7"
      },
      "source": [
        "u_labels = np.unique(kmeans.labels_)\n",
        " \n",
        "#plotting the results:\n",
        " \n",
        "for i in u_labels:\n",
        "  # plote de acordo com atributos \"Área totalKm2\" e \"Densidade demográfica Hab./Km2\"\n",
        "  plt.scatter(scaled_data[kmeans.labels_ == i , 0],scaled_data[kmeans.labels_ == i,1], label=i) \n",
        "#plt.legend(loc='right')\n",
        "plt.show()"
      ],
      "execution_count": null,
      "outputs": [
        {
          "output_type": "display_data",
          "data": {
            "image/png": "[encoded data removed]",
            "text/plain": [
              "<Figure size 432x288 with 1 Axes>"
            ]
          },
          "metadata": {
            "tags": [],
            "needs_background": "light"
          }
        }
      ]
    },
    {
      "cell_type": "code",
      "metadata": {
        "id": "bLJifx4QXGEA"
      },
      "source": [
        "kmeans = KMeans(n_clusters=50, random_state=0).fit(scaled_data)"
      ],
      "execution_count": null,
      "outputs": []
    },
    {
      "cell_type": "code",
      "metadata": {
        "colab": {
          "base_uri": "https://localhost:8080/",
          "height": 265
        },
        "id": "AoM6TdNbYMZx",
        "outputId": "db79c068-1ca9-4d49-d742-4324248a98b0"
      },
      "source": [
        "import matplotlib.pyplot as plt\n",
        "\n",
        "#filter rows of original data\n",
        "filtered_label0 = scaled_data[kmeans.labels_]\n",
        "\n",
        "#plotting the results\n",
        "plt.scatter(filtered_label0[:,0] , filtered_label0[:,1]) # de acordo com \"População 2010\" e \t\"Urbana\"\n",
        "plt.show()"
      ],
      "execution_count": null,
      "outputs": [
        {
          "output_type": "display_data",
          "data": {
            "image/png": "[encoded data removed]",
            "text/plain": [
              "<Figure size 432x288 with 1 Axes>"
            ]
          },
          "metadata": {
            "tags": [],
            "needs_background": "light"
          }
        }
      ]
    },
    {
      "cell_type": "code",
      "metadata": {
        "colab": {
          "base_uri": "https://localhost:8080/",
          "height": 265
        },
        "id": "Yy88rxKIY_16",
        "outputId": "77990e1c-1d51-4eef-badb-e5bd93ffacc7"
      },
      "source": [
        "u_labels = np.unique(kmeans.labels_)\n",
        " \n",
        "#plotting the results:\n",
        " \n",
        "for i in u_labels:\n",
        "  # plote de acordo com atributos \"Área totalKm2\" e \"Densidade demográfica Hab./Km2\"\n",
        "  plt.scatter(scaled_data[kmeans.labels_ == i , 0],scaled_data[kmeans.labels_ == i,1], label=i) \n",
        "#plt.legend(loc='right')\n",
        "plt.show()"
      ],
      "execution_count": null,
      "outputs": [
        {
          "output_type": "display_data",
          "data": {
            "image/png": "[encoded data removed]",
            "text/plain": [
              "<Figure size 432x288 with 1 Axes>"
            ]
          },
          "metadata": {
            "tags": [],
            "needs_background": "light"
          }
        }
      ]
    },
    {
      "cell_type": "code",
      "metadata": {
        "colab": {
          "base_uri": "https://localhost:8080/"
        },
        "id": "J2eT_kZVZdmn",
        "outputId": "6c3d0512-a419-48ac-ce36-e63431c234bd"
      },
      "source": [
        "data = ibge.iloc[:, 2:8].values\n",
        "data"
      ],
      "execution_count": null,
      "outputs": [
        {
          "output_type": "execute_result",
          "data": {
            "text/plain": [
              "array([[ 33797,  31948,   1849,   4114,   8216,      4],\n",
              "       [  3557,   3200,    357,   2111,   1685,      1],\n",
              "       [ 32148,  29001,   3147,   4747,   6772,      5],\n",
              "       ...,\n",
              "       [108809, 104659,   4150,   1837,  59247,     17],\n",
              "       [ 84692,  82319,   2373,   4241,  19969,     19],\n",
              "       [  2335,   1836,    499,   3191,    732,      1]])"
            ]
          },
          "metadata": {
            "tags": []
          },
          "execution_count": 46
        }
      ]
    },
    {
      "cell_type": "code",
      "metadata": {
        "colab": {
          "base_uri": "https://localhost:8080/"
        },
        "id": "YoxYYTkCZlgG",
        "outputId": "660541dc-9fc2-4bb5-fa7a-49af7fa4cd13"
      },
      "source": [
        "min_max_scaler = preprocessing.MinMaxScaler()\n",
        "scaled_data = min_max_scaler.fit_transform(data)\n",
        "print(scaled_data)"
      ],
      "execution_count": null,
      "outputs": [
        {
          "output_type": "stream",
          "text": [
            "[[2.93191908e-03 2.80862579e-03 1.82781562e-02 2.05882353e-01\n",
            "  6.26669447e-03 4.25531915e-03]\n",
            " [2.44563570e-04 2.30726802e-04 3.52909776e-03 1.04310345e-01\n",
            "  1.04831100e-03 0.00000000e+00]\n",
            " [2.78537645e-03 2.54436155e-03 3.11094416e-02 2.37981744e-01\n",
            "  5.11291316e-03 5.67375887e-03]\n",
            " ...\n",
            " [9.59805373e-03 9.32878767e-03 4.10245257e-02 9.04158215e-02\n",
            "  4.70413579e-02 2.26950355e-02]\n",
            " [7.45483439e-03 7.32550871e-03 2.34581204e-02 2.12322515e-01\n",
            "  1.56575475e-02 2.55319149e-02]\n",
            " [1.35967392e-04 1.08413799e-04 4.93282852e-03 1.59077079e-01\n",
            "  2.86847293e-04 0.00000000e+00]]\n"
          ],
          "name": "stdout"
        }
      ]
    },
    {
      "cell_type": "code",
      "metadata": {
        "id": "jHTDCzgnZvTz"
      },
      "source": [
        "kmeans = KMeans(n_clusters=20, random_state=0).fit(scaled_data)"
      ],
      "execution_count": null,
      "outputs": []
    },
    {
      "cell_type": "code",
      "metadata": {
        "colab": {
          "base_uri": "https://localhost:8080/",
          "height": 265
        },
        "id": "L3E4wCYHZzMd",
        "outputId": "945ac8e1-dfc9-4e22-f02f-052a7b0d5770"
      },
      "source": [
        "import matplotlib.pyplot as plt\n",
        "\n",
        "#filter rows of original data\n",
        "filtered_label0 = scaled_data[kmeans.labels_]\n",
        "\n",
        "#plotting the results\n",
        "plt.scatter(filtered_label0[:,0] , filtered_label0[:,1]) # de acordo com \"População 2010\" e \t\"Urbana\"\n",
        "plt.show()"
      ],
      "execution_count": null,
      "outputs": [
        {
          "output_type": "display_data",
          "data": {
            "image/png": "[encoded data removed]",
            "text/plain": [
              "<Figure size 432x288 with 1 Axes>"
            ]
          },
          "metadata": {
            "tags": [],
            "needs_background": "light"
          }
        }
      ]
    },
    {
      "cell_type": "code",
      "metadata": {
        "colab": {
          "base_uri": "https://localhost:8080/",
          "height": 265
        },
        "id": "KK8CuaDdaL1d",
        "outputId": "c549770f-1df0-4057-fe94-e79e7dcdedfd"
      },
      "source": [
        "u_labels = np.unique(kmeans.labels_)\n",
        " \n",
        "#plotting the results:\n",
        " \n",
        "for i in u_labels:\n",
        "  # plote de acordo com atributos \"Área totalKm2\" e \"Densidade demográfica Hab./Km2\"\n",
        "  plt.scatter(scaled_data[kmeans.labels_ == i , 0],scaled_data[kmeans.labels_ == i,1], label=i) \n",
        "#plt.legend(loc='right')\n",
        "plt.show()"
      ],
      "execution_count": null,
      "outputs": [
        {
          "output_type": "display_data",
          "data": {
            "image/png": "[encoded data removed]",
            "text/plain": [
              "<Figure size 432x288 with 1 Axes>"
            ]
          },
          "metadata": {
            "tags": [],
            "needs_background": "light"
          }
        }
      ]
    },
    {
      "cell_type": "code",
      "metadata": {
        "id": "anqIg59DZw9P"
      },
      "source": [
        "kmeans = KMeans(n_clusters=50, random_state=0).fit(scaled_data)"
      ],
      "execution_count": null,
      "outputs": []
    },
    {
      "cell_type": "code",
      "metadata": {
        "colab": {
          "base_uri": "https://localhost:8080/",
          "height": 265
        },
        "id": "60e_hFPXaTu0",
        "outputId": "d052310e-0c5b-4aa7-c59a-de591d3edd46"
      },
      "source": [
        "import matplotlib.pyplot as plt\n",
        "\n",
        "#filter rows of original data\n",
        "filtered_label0 = scaled_data[kmeans.labels_]\n",
        "\n",
        "#plotting the results\n",
        "plt.scatter(filtered_label0[:,0] , filtered_label0[:,1]) # de acordo com \"População 2010\" e \t\"Urbana\"\n",
        "plt.show()"
      ],
      "execution_count": null,
      "outputs": [
        {
          "output_type": "display_data",
          "data": {
            "image/png": "[encoded data removed]",
            "text/plain": [
              "<Figure size 432x288 with 1 Axes>"
            ]
          },
          "metadata": {
            "tags": [],
            "needs_background": "light"
          }
        }
      ]
    },
    {
      "cell_type": "code",
      "metadata": {
        "colab": {
          "base_uri": "https://localhost:8080/",
          "height": 265
        },
        "id": "F3AdB-_HaXAj",
        "outputId": "ca71318a-d6b6-4b5e-aadd-5ef6eeb3c087"
      },
      "source": [
        "u_labels = np.unique(kmeans.labels_)\n",
        " \n",
        "#plotting the results:\n",
        " \n",
        "for i in u_labels:\n",
        "  # plote de acordo com atributos \"Área totalKm2\" e \"Densidade demográfica Hab./Km2\"\n",
        "  plt.scatter(scaled_data[kmeans.labels_ == i , 0],scaled_data[kmeans.labels_ == i,1], label=i) \n",
        "#plt.legend(loc='right')\n",
        "plt.show()"
      ],
      "execution_count": null,
      "outputs": [
        {
          "output_type": "display_data",
          "data": {
            "image/png": "[encoded data removed]",
            "text/plain": [
              "<Figure size 432x288 with 1 Axes>"
            ]
          },
          "metadata": {
            "tags": [],
            "needs_background": "light"
          }
        }
      ]
    },
    {
      "cell_type": "markdown",
      "metadata": {
        "id": "eOm-pBsFbThR"
      },
      "source": [
        "Os graficos dos agrupamentos com apenas 2 atributos, apresentam forma mais espaça devido os clusters apresentarem maior grau de semelhança, e podemos observar tambem um nivel de desordem maior neles"
      ]
    },
    {
      "cell_type": "markdown",
      "metadata": {
        "id": "41JHg4NkclGC"
      },
      "source": [
        "Ja os graficos dos agrupamentos com 6 atributos apresentam uma forma mais linear e com um menor grau de desordem pois como sao levados em conta uma maior contidade de atributo acaba melhorando a classificacao e clusterizacao dos mesmo "
      ]
    },
    {
      "cell_type": "markdown",
      "metadata": {
        "id": "Jt9UZfAddCIy"
      },
      "source": [
        "Com isso concluimos que levando em conta menos atributos temos uma menor especificidade na classificacao dos clusters do que com uma quantidade maior de atributos, pois quanto maior a quantidade de atributos maior a especificidade do cluster e melhor sera o agrupamento"
      ]
    }
  ]
}