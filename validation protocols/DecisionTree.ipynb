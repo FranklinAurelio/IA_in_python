{
  "nbformat": 4,
  "nbformat_minor": 0,
  "metadata": {
    "colab": {
      "name": "DecisionTree.ipynb",
      "provenance": []
    },
    "kernelspec": {
      "name": "python3",
      "display_name": "Python 3"
    },
    "language_info": {
      "name": "python"
    }
  },
  "cells": [
    {
      "cell_type": "markdown",
      "metadata": {
        "id": "OknJZiHh1vgW"
      },
      "source": [
        "Arovore implementada conforme o tutorial https://scikit-learn.org/stable/modules/tree.html"
      ]
    },
    {
      "cell_type": "code",
      "metadata": {
        "id": "n6xjgt9tvxt7"
      },
      "source": [
        "from sklearn import tree\n",
        "X = [[0, 0], [1, 1]]\n",
        "Y = [0, 1]\n",
        "clf = tree.DecisionTreeClassifier()\n",
        "clf = clf.fit(X, Y)"
      ],
      "execution_count": null,
      "outputs": []
    },
    {
      "cell_type": "code",
      "metadata": {
        "colab": {
          "base_uri": "https://localhost:8080/"
        },
        "id": "yit1jkvHwwbn",
        "outputId": "2bc28090-661e-4f10-a87a-72d90d7f67c9"
      },
      "source": [
        "clf.predict([[2., 2.]])"
      ],
      "execution_count": null,
      "outputs": [
        {
          "output_type": "execute_result",
          "data": {
            "text/plain": [
              "array([1])"
            ]
          },
          "metadata": {
            "tags": []
          },
          "execution_count": 2
        }
      ]
    },
    {
      "cell_type": "code",
      "metadata": {
        "colab": {
          "base_uri": "https://localhost:8080/"
        },
        "id": "3SWk_6QmxKQR",
        "outputId": "e64476df-36c7-4b46-e2a9-7d13b1cb38a2"
      },
      "source": [
        "clf.predict_proba([[2., 2.]])"
      ],
      "execution_count": null,
      "outputs": [
        {
          "output_type": "execute_result",
          "data": {
            "text/plain": [
              "array([[0., 1.]])"
            ]
          },
          "metadata": {
            "tags": []
          },
          "execution_count": 3
        }
      ]
    },
    {
      "cell_type": "code",
      "metadata": {
        "id": "S3XaS4Tuxv9w"
      },
      "source": [
        "from sklearn.datasets import load_iris\n",
        "from sklearn import tree\n",
        "iris = load_iris()\n",
        "X, y = iris.data, iris.target\n",
        "clf = tree.DecisionTreeClassifier()\n",
        "clf = clf.fit(X, y)"
      ],
      "execution_count": null,
      "outputs": []
    },
    {
      "cell_type": "code",
      "metadata": {
        "colab": {
          "base_uri": "https://localhost:8080/",
          "height": 557
        },
        "id": "vn7v59JHyFPq",
        "outputId": "edcb5995-cac2-46d3-835e-7b398121b412"
      },
      "source": [
        "tree.plot_tree(clf) "
      ],
      "execution_count": null,
      "outputs": [
        {
          "output_type": "execute_result",
          "data": {
            "text/plain": [
              "[Text(167.4, 199.32, 'X[2] <= 2.45\\ngini = 0.667\\nsamples = 150\\nvalue = [50, 50, 50]'),\n",
              " Text(141.64615384615385, 163.07999999999998, 'gini = 0.0\\nsamples = 50\\nvalue = [50, 0, 0]'),\n",
              " Text(193.15384615384616, 163.07999999999998, 'X[3] <= 1.75\\ngini = 0.5\\nsamples = 100\\nvalue = [0, 50, 50]'),\n",
              " Text(103.01538461538462, 126.83999999999999, 'X[2] <= 4.95\\ngini = 0.168\\nsamples = 54\\nvalue = [0, 49, 5]'),\n",
              " Text(51.50769230769231, 90.6, 'X[3] <= 1.65\\ngini = 0.041\\nsamples = 48\\nvalue = [0, 47, 1]'),\n",
              " Text(25.753846153846155, 54.359999999999985, 'gini = 0.0\\nsamples = 47\\nvalue = [0, 47, 0]'),\n",
              " Text(77.26153846153846, 54.359999999999985, 'gini = 0.0\\nsamples = 1\\nvalue = [0, 0, 1]'),\n",
              " Text(154.52307692307693, 90.6, 'X[3] <= 1.55\\ngini = 0.444\\nsamples = 6\\nvalue = [0, 2, 4]'),\n",
              " Text(128.76923076923077, 54.359999999999985, 'gini = 0.0\\nsamples = 3\\nvalue = [0, 0, 3]'),\n",
              " Text(180.27692307692308, 54.359999999999985, 'X[0] <= 6.95\\ngini = 0.444\\nsamples = 3\\nvalue = [0, 2, 1]'),\n",
              " Text(154.52307692307693, 18.119999999999976, 'gini = 0.0\\nsamples = 2\\nvalue = [0, 2, 0]'),\n",
              " Text(206.03076923076924, 18.119999999999976, 'gini = 0.0\\nsamples = 1\\nvalue = [0, 0, 1]'),\n",
              " Text(283.2923076923077, 126.83999999999999, 'X[2] <= 4.85\\ngini = 0.043\\nsamples = 46\\nvalue = [0, 1, 45]'),\n",
              " Text(257.53846153846155, 90.6, 'X[0] <= 5.95\\ngini = 0.444\\nsamples = 3\\nvalue = [0, 1, 2]'),\n",
              " Text(231.7846153846154, 54.359999999999985, 'gini = 0.0\\nsamples = 1\\nvalue = [0, 1, 0]'),\n",
              " Text(283.2923076923077, 54.359999999999985, 'gini = 0.0\\nsamples = 2\\nvalue = [0, 0, 2]'),\n",
              " Text(309.04615384615386, 90.6, 'gini = 0.0\\nsamples = 43\\nvalue = [0, 0, 43]')]"
            ]
          },
          "metadata": {
            "tags": []
          },
          "execution_count": 6
        },
        {
          "output_type": "display_data",
          "data": {
            "image/png": "[encoded data removed]",
            "text/plain": [
              "<Figure size 432x288 with 1 Axes>"
            ]
          },
          "metadata": {
            "tags": [],
            "needs_background": "light"
          }
        }
      ]
    },
    {
      "cell_type": "code",
      "metadata": {
        "colab": {
          "base_uri": "https://localhost:8080/",
          "height": 37
        },
        "id": "SOOrFStqyVV2",
        "outputId": "04b2be9b-ef56-49f6-ecaf-4ed4a2b853ce"
      },
      "source": [
        "import graphviz \n",
        "dot_data = tree.export_graphviz(clf, out_file=None) \n",
        "graph = graphviz.Source(dot_data) \n",
        "graph.render(\"iris\") "
      ],
      "execution_count": null,
      "outputs": [
        {
          "output_type": "execute_result",
          "data": {
            "application/vnd.google.colaboratory.intrinsic+json": {
              "type": "string"
            },
            "text/plain": [
              "'iris.pdf'"
            ]
          },
          "metadata": {
            "tags": []
          },
          "execution_count": 7
        }
      ]
    },
    {
      "cell_type": "code",
      "metadata": {
        "colab": {
          "base_uri": "https://localhost:8080/",
          "height": 936
        },
        "id": "rQV0GtAIyvcN",
        "outputId": "e1a1889a-737e-4556-e19b-994247558291"
      },
      "source": [
        "dot_data = tree.export_graphviz(clf, out_file=None, \n",
        "...                      feature_names=iris.feature_names,  \n",
        "...                      class_names=iris.target_names,  \n",
        "...                      filled=True, rounded=True,  \n",
        "...                      special_characters=True)  \n",
        "graph = graphviz.Source(dot_data)  \n",
        "graph "
      ],
      "execution_count": null,
      "outputs": [
        {
          "output_type": "execute_result",
          "data": {
            "text/plain": [
              "<graphviz.files.Source at 0x7fa09eeba290>"
            ],
            "image/svg+xml": "<?xml version=\"1.0\" encoding=\"UTF-8\" standalone=\"no\"?>\n<!DOCTYPE svg PUBLIC \"-//W3C//DTD SVG 1.1//EN\"\n \"http://www.w3.org/Graphics/SVG/1.1/DTD/svg11.dtd\">\n<!-- Generated by graphviz version 2.40.1 (20161225.0304)\n -->\n<!-- Title: Tree Pages: 1 -->\n<svg width=\"909pt\" height=\"671pt\"\n viewBox=\"0.00 0.00 908.50 671.00\" xmlns=\"http://www.w3.org/2000/svg\" xmlns:xlink=\"http://www.w3.org/1999/xlink\">\n<g id=\"graph0\" class=\"graph\" transform=\"scale(1 1) rotate(0) translate(4 667)\">\n<title>Tree</title>\n<polygon fill=\"#ffffff\" stroke=\"transparent\" points=\"-4,4 -4,-667 904.5,-667 904.5,4 -4,4\"/>\n<!-- 0 -->\n<g id=\"node1\" class=\"node\">\n<title>0</title>\n<path fill=\"#ffffff\" stroke=\"#000000\" d=\"M546.5,-663C546.5,-663 403.5,-663 403.5,-663 397.5,-663 391.5,-657 391.5,-651 391.5,-651 391.5,-592 391.5,-592 391.5,-586 397.5,-580 403.5,-580 403.5,-580 546.5,-580 546.5,-580 552.5,-580 558.5,-586 558.5,-592 558.5,-592 558.5,-651 558.5,-651 558.5,-657 552.5,-663 546.5,-663\"/>\n<text text-anchor=\"start\" x=\"399.5\" y=\"-647.8\" font-family=\"Helvetica,sans-Serif\" font-size=\"14.00\" fill=\"#000000\">petal length (cm) ≤ 2.45</text>\n<text text-anchor=\"start\" x=\"437\" y=\"-632.8\" font-family=\"Helvetica,sans-Serif\" font-size=\"14.00\" fill=\"#000000\">gini = 0.667</text>\n<text text-anchor=\"start\" x=\"427\" y=\"-617.8\" font-family=\"Helvetica,sans-Serif\" font-size=\"14.00\" fill=\"#000000\">samples = 150</text>\n<text text-anchor=\"start\" x=\"413\" y=\"-602.8\" font-family=\"Helvetica,sans-Serif\" font-size=\"14.00\" fill=\"#000000\">value = [50, 50, 50]</text>\n<text text-anchor=\"start\" x=\"428\" y=\"-587.8\" font-family=\"Helvetica,sans-Serif\" font-size=\"14.00\" fill=\"#000000\">class = setosa</text>\n</g>\n<!-- 1 -->\n<g id=\"node2\" class=\"node\">\n<title>1</title>\n<path fill=\"#e58139\" stroke=\"#000000\" d=\"M444.5,-536.5C444.5,-536.5 345.5,-536.5 345.5,-536.5 339.5,-536.5 333.5,-530.5 333.5,-524.5 333.5,-524.5 333.5,-480.5 333.5,-480.5 333.5,-474.5 339.5,-468.5 345.5,-468.5 345.5,-468.5 444.5,-468.5 444.5,-468.5 450.5,-468.5 456.5,-474.5 456.5,-480.5 456.5,-480.5 456.5,-524.5 456.5,-524.5 456.5,-530.5 450.5,-536.5 444.5,-536.5\"/>\n<text text-anchor=\"start\" x=\"365.5\" y=\"-521.3\" font-family=\"Helvetica,sans-Serif\" font-size=\"14.00\" fill=\"#000000\">gini = 0.0</text>\n<text text-anchor=\"start\" x=\"351\" y=\"-506.3\" font-family=\"Helvetica,sans-Serif\" font-size=\"14.00\" fill=\"#000000\">samples = 50</text>\n<text text-anchor=\"start\" x=\"341.5\" y=\"-491.3\" font-family=\"Helvetica,sans-Serif\" font-size=\"14.00\" fill=\"#000000\">value = [50, 0, 0]</text>\n<text text-anchor=\"start\" x=\"348\" y=\"-476.3\" font-family=\"Helvetica,sans-Serif\" font-size=\"14.00\" fill=\"#000000\">class = setosa</text>\n</g>\n<!-- 0&#45;&gt;1 -->\n<g id=\"edge1\" class=\"edge\">\n<title>0&#45;&gt;1</title>\n<path fill=\"none\" stroke=\"#000000\" d=\"M447.0199,-579.8796C439.4797,-568.6636 431.3113,-556.5131 423.7309,-545.2372\"/>\n<polygon fill=\"#000000\" stroke=\"#000000\" points=\"426.5527,-543.1612 418.0689,-536.8149 420.7434,-547.0667 426.5527,-543.1612\"/>\n<text text-anchor=\"middle\" x=\"413.2608\" y=\"-557.6482\" font-family=\"Helvetica,sans-Serif\" font-size=\"14.00\" fill=\"#000000\">True</text>\n</g>\n<!-- 2 -->\n<g id=\"node3\" class=\"node\">\n<title>2</title>\n<path fill=\"#ffffff\" stroke=\"#000000\" d=\"M623.5,-544C623.5,-544 486.5,-544 486.5,-544 480.5,-544 474.5,-538 474.5,-532 474.5,-532 474.5,-473 474.5,-473 474.5,-467 480.5,-461 486.5,-461 486.5,-461 623.5,-461 623.5,-461 629.5,-461 635.5,-467 635.5,-473 635.5,-473 635.5,-532 635.5,-532 635.5,-538 629.5,-544 623.5,-544\"/>\n<text text-anchor=\"start\" x=\"482.5\" y=\"-528.8\" font-family=\"Helvetica,sans-Serif\" font-size=\"14.00\" fill=\"#000000\">petal width (cm) ≤ 1.75</text>\n<text text-anchor=\"start\" x=\"525.5\" y=\"-513.8\" font-family=\"Helvetica,sans-Serif\" font-size=\"14.00\" fill=\"#000000\">gini = 0.5</text>\n<text text-anchor=\"start\" x=\"507\" y=\"-498.8\" font-family=\"Helvetica,sans-Serif\" font-size=\"14.00\" fill=\"#000000\">samples = 100</text>\n<text text-anchor=\"start\" x=\"497.5\" y=\"-483.8\" font-family=\"Helvetica,sans-Serif\" font-size=\"14.00\" fill=\"#000000\">value = [0, 50, 50]</text>\n<text text-anchor=\"start\" x=\"499\" y=\"-468.8\" font-family=\"Helvetica,sans-Serif\" font-size=\"14.00\" fill=\"#000000\">class = versicolor</text>\n</g>\n<!-- 0&#45;&gt;2 -->\n<g id=\"edge2\" class=\"edge\">\n<title>0&#45;&gt;2</title>\n<path fill=\"none\" stroke=\"#000000\" d=\"M502.9801,-579.8796C508.8531,-571.1434 515.1073,-561.8404 521.1679,-552.8253\"/>\n<polygon fill=\"#000000\" stroke=\"#000000\" points=\"524.2259,-554.5498 526.9005,-544.2981 518.4166,-550.6444 524.2259,-554.5498\"/>\n<text text-anchor=\"middle\" x=\"531.7085\" y=\"-565.1314\" font-family=\"Helvetica,sans-Serif\" font-size=\"14.00\" fill=\"#000000\">False</text>\n</g>\n<!-- 3 -->\n<g id=\"node4\" class=\"node\">\n<title>3</title>\n<path fill=\"#4de88e\" stroke=\"#000000\" d=\"M508.5,-425C508.5,-425 365.5,-425 365.5,-425 359.5,-425 353.5,-419 353.5,-413 353.5,-413 353.5,-354 353.5,-354 353.5,-348 359.5,-342 365.5,-342 365.5,-342 508.5,-342 508.5,-342 514.5,-342 520.5,-348 520.5,-354 520.5,-354 520.5,-413 520.5,-413 520.5,-419 514.5,-425 508.5,-425\"/>\n<text text-anchor=\"start\" x=\"361.5\" y=\"-409.8\" font-family=\"Helvetica,sans-Serif\" font-size=\"14.00\" fill=\"#000000\">petal length (cm) ≤ 4.95</text>\n<text text-anchor=\"start\" x=\"399\" y=\"-394.8\" font-family=\"Helvetica,sans-Serif\" font-size=\"14.00\" fill=\"#000000\">gini = 0.168</text>\n<text text-anchor=\"start\" x=\"393\" y=\"-379.8\" font-family=\"Helvetica,sans-Serif\" font-size=\"14.00\" fill=\"#000000\">samples = 54</text>\n<text text-anchor=\"start\" x=\"383.5\" y=\"-364.8\" font-family=\"Helvetica,sans-Serif\" font-size=\"14.00\" fill=\"#000000\">value = [0, 49, 5]</text>\n<text text-anchor=\"start\" x=\"381\" y=\"-349.8\" font-family=\"Helvetica,sans-Serif\" font-size=\"14.00\" fill=\"#000000\">class = versicolor</text>\n</g>\n<!-- 2&#45;&gt;3 -->\n<g id=\"edge3\" class=\"edge\">\n<title>2&#45;&gt;3</title>\n<path fill=\"none\" stroke=\"#000000\" d=\"M513.7293,-460.8796C504.6201,-451.6931 494.8892,-441.8798 485.5224,-432.4336\"/>\n<polygon fill=\"#000000\" stroke=\"#000000\" points=\"487.9733,-429.9345 478.4468,-425.2981 483.0027,-434.8634 487.9733,-429.9345\"/>\n</g>\n<!-- 12 -->\n<g id=\"node13\" class=\"node\">\n<title>12</title>\n<path fill=\"#843de6\" stroke=\"#000000\" d=\"M745.5,-425C745.5,-425 602.5,-425 602.5,-425 596.5,-425 590.5,-419 590.5,-413 590.5,-413 590.5,-354 590.5,-354 590.5,-348 596.5,-342 602.5,-342 602.5,-342 745.5,-342 745.5,-342 751.5,-342 757.5,-348 757.5,-354 757.5,-354 757.5,-413 757.5,-413 757.5,-419 751.5,-425 745.5,-425\"/>\n<text text-anchor=\"start\" x=\"598.5\" y=\"-409.8\" font-family=\"Helvetica,sans-Serif\" font-size=\"14.00\" fill=\"#000000\">petal length (cm) ≤ 4.85</text>\n<text text-anchor=\"start\" x=\"636\" y=\"-394.8\" font-family=\"Helvetica,sans-Serif\" font-size=\"14.00\" fill=\"#000000\">gini = 0.043</text>\n<text text-anchor=\"start\" x=\"630\" y=\"-379.8\" font-family=\"Helvetica,sans-Serif\" font-size=\"14.00\" fill=\"#000000\">samples = 46</text>\n<text text-anchor=\"start\" x=\"620.5\" y=\"-364.8\" font-family=\"Helvetica,sans-Serif\" font-size=\"14.00\" fill=\"#000000\">value = [0, 1, 45]</text>\n<text text-anchor=\"start\" x=\"622.5\" y=\"-349.8\" font-family=\"Helvetica,sans-Serif\" font-size=\"14.00\" fill=\"#000000\">class = virginica</text>\n</g>\n<!-- 2&#45;&gt;12 -->\n<g id=\"edge12\" class=\"edge\">\n<title>2&#45;&gt;12</title>\n<path fill=\"none\" stroke=\"#000000\" d=\"M596.6204,-460.8796C605.8069,-451.6931 615.6202,-441.8798 625.0664,-432.4336\"/>\n<polygon fill=\"#000000\" stroke=\"#000000\" points=\"627.6057,-434.8441 632.2019,-425.2981 622.6559,-429.8943 627.6057,-434.8441\"/>\n</g>\n<!-- 4 -->\n<g id=\"node5\" class=\"node\">\n<title>4</title>\n<path fill=\"#3de684\" stroke=\"#000000\" d=\"M274.5,-306C274.5,-306 137.5,-306 137.5,-306 131.5,-306 125.5,-300 125.5,-294 125.5,-294 125.5,-235 125.5,-235 125.5,-229 131.5,-223 137.5,-223 137.5,-223 274.5,-223 274.5,-223 280.5,-223 286.5,-229 286.5,-235 286.5,-235 286.5,-294 286.5,-294 286.5,-300 280.5,-306 274.5,-306\"/>\n<text text-anchor=\"start\" x=\"133.5\" y=\"-290.8\" font-family=\"Helvetica,sans-Serif\" font-size=\"14.00\" fill=\"#000000\">petal width (cm) ≤ 1.65</text>\n<text text-anchor=\"start\" x=\"168\" y=\"-275.8\" font-family=\"Helvetica,sans-Serif\" font-size=\"14.00\" fill=\"#000000\">gini = 0.041</text>\n<text text-anchor=\"start\" x=\"162\" y=\"-260.8\" font-family=\"Helvetica,sans-Serif\" font-size=\"14.00\" fill=\"#000000\">samples = 48</text>\n<text text-anchor=\"start\" x=\"152.5\" y=\"-245.8\" font-family=\"Helvetica,sans-Serif\" font-size=\"14.00\" fill=\"#000000\">value = [0, 47, 1]</text>\n<text text-anchor=\"start\" x=\"150\" y=\"-230.8\" font-family=\"Helvetica,sans-Serif\" font-size=\"14.00\" fill=\"#000000\">class = versicolor</text>\n</g>\n<!-- 3&#45;&gt;4 -->\n<g id=\"edge4\" class=\"edge\">\n<title>3&#45;&gt;4</title>\n<path fill=\"none\" stroke=\"#000000\" d=\"M356.2074,-341.8796C336.6886,-331.8244 315.712,-321.0183 295.8077,-310.7645\"/>\n<polygon fill=\"#000000\" stroke=\"#000000\" points=\"297.2396,-307.5651 286.747,-306.0969 294.0339,-313.788 297.2396,-307.5651\"/>\n</g>\n<!-- 7 -->\n<g id=\"node8\" class=\"node\">\n<title>7</title>\n<path fill=\"#c09cf2\" stroke=\"#000000\" d=\"M505.5,-306C505.5,-306 368.5,-306 368.5,-306 362.5,-306 356.5,-300 356.5,-294 356.5,-294 356.5,-235 356.5,-235 356.5,-229 362.5,-223 368.5,-223 368.5,-223 505.5,-223 505.5,-223 511.5,-223 517.5,-229 517.5,-235 517.5,-235 517.5,-294 517.5,-294 517.5,-300 511.5,-306 505.5,-306\"/>\n<text text-anchor=\"start\" x=\"364.5\" y=\"-290.8\" font-family=\"Helvetica,sans-Serif\" font-size=\"14.00\" fill=\"#000000\">petal width (cm) ≤ 1.55</text>\n<text text-anchor=\"start\" x=\"399\" y=\"-275.8\" font-family=\"Helvetica,sans-Serif\" font-size=\"14.00\" fill=\"#000000\">gini = 0.444</text>\n<text text-anchor=\"start\" x=\"397.5\" y=\"-260.8\" font-family=\"Helvetica,sans-Serif\" font-size=\"14.00\" fill=\"#000000\">samples = 6</text>\n<text text-anchor=\"start\" x=\"387.5\" y=\"-245.8\" font-family=\"Helvetica,sans-Serif\" font-size=\"14.00\" fill=\"#000000\">value = [0, 2, 4]</text>\n<text text-anchor=\"start\" x=\"385.5\" y=\"-230.8\" font-family=\"Helvetica,sans-Serif\" font-size=\"14.00\" fill=\"#000000\">class = virginica</text>\n</g>\n<!-- 3&#45;&gt;7 -->\n<g id=\"edge7\" class=\"edge\">\n<title>3&#45;&gt;7</title>\n<path fill=\"none\" stroke=\"#000000\" d=\"M437,-341.8796C437,-333.6838 437,-324.9891 437,-316.5013\"/>\n<polygon fill=\"#000000\" stroke=\"#000000\" points=\"440.5001,-316.298 437,-306.2981 433.5001,-316.2981 440.5001,-316.298\"/>\n</g>\n<!-- 5 -->\n<g id=\"node6\" class=\"node\">\n<title>5</title>\n<path fill=\"#39e581\" stroke=\"#000000\" d=\"M116,-179.5C116,-179.5 12,-179.5 12,-179.5 6,-179.5 0,-173.5 0,-167.5 0,-167.5 0,-123.5 0,-123.5 0,-117.5 6,-111.5 12,-111.5 12,-111.5 116,-111.5 116,-111.5 122,-111.5 128,-117.5 128,-123.5 128,-123.5 128,-167.5 128,-167.5 128,-173.5 122,-179.5 116,-179.5\"/>\n<text text-anchor=\"start\" x=\"34.5\" y=\"-164.3\" font-family=\"Helvetica,sans-Serif\" font-size=\"14.00\" fill=\"#000000\">gini = 0.0</text>\n<text text-anchor=\"start\" x=\"20\" y=\"-149.3\" font-family=\"Helvetica,sans-Serif\" font-size=\"14.00\" fill=\"#000000\">samples = 47</text>\n<text text-anchor=\"start\" x=\"10.5\" y=\"-134.3\" font-family=\"Helvetica,sans-Serif\" font-size=\"14.00\" fill=\"#000000\">value = [0, 47, 0]</text>\n<text text-anchor=\"start\" x=\"8\" y=\"-119.3\" font-family=\"Helvetica,sans-Serif\" font-size=\"14.00\" fill=\"#000000\">class = versicolor</text>\n</g>\n<!-- 4&#45;&gt;5 -->\n<g id=\"edge5\" class=\"edge\">\n<title>4&#45;&gt;5</title>\n<path fill=\"none\" stroke=\"#000000\" d=\"M156.3353,-222.8796C142.1642,-211.0038 126.743,-198.0804 112.6342,-186.2568\"/>\n<polygon fill=\"#000000\" stroke=\"#000000\" points=\"114.8598,-183.5554 104.9472,-179.8149 110.3637,-188.9206 114.8598,-183.5554\"/>\n</g>\n<!-- 6 -->\n<g id=\"node7\" class=\"node\">\n<title>6</title>\n<path fill=\"#8139e5\" stroke=\"#000000\" d=\"M253.5,-179.5C253.5,-179.5 158.5,-179.5 158.5,-179.5 152.5,-179.5 146.5,-173.5 146.5,-167.5 146.5,-167.5 146.5,-123.5 146.5,-123.5 146.5,-117.5 152.5,-111.5 158.5,-111.5 158.5,-111.5 253.5,-111.5 253.5,-111.5 259.5,-111.5 265.5,-117.5 265.5,-123.5 265.5,-123.5 265.5,-167.5 265.5,-167.5 265.5,-173.5 259.5,-179.5 253.5,-179.5\"/>\n<text text-anchor=\"start\" x=\"176.5\" y=\"-164.3\" font-family=\"Helvetica,sans-Serif\" font-size=\"14.00\" fill=\"#000000\">gini = 0.0</text>\n<text text-anchor=\"start\" x=\"166.5\" y=\"-149.3\" font-family=\"Helvetica,sans-Serif\" font-size=\"14.00\" fill=\"#000000\">samples = 1</text>\n<text text-anchor=\"start\" x=\"156.5\" y=\"-134.3\" font-family=\"Helvetica,sans-Serif\" font-size=\"14.00\" fill=\"#000000\">value = [0, 0, 1]</text>\n<text text-anchor=\"start\" x=\"154.5\" y=\"-119.3\" font-family=\"Helvetica,sans-Serif\" font-size=\"14.00\" fill=\"#000000\">class = virginica</text>\n</g>\n<!-- 4&#45;&gt;6 -->\n<g id=\"edge6\" class=\"edge\">\n<title>4&#45;&gt;6</title>\n<path fill=\"none\" stroke=\"#000000\" d=\"M206,-222.8796C206,-212.2134 206,-200.7021 206,-189.9015\"/>\n<polygon fill=\"#000000\" stroke=\"#000000\" points=\"209.5001,-189.8149 206,-179.8149 202.5001,-189.815 209.5001,-189.8149\"/>\n</g>\n<!-- 8 -->\n<g id=\"node9\" class=\"node\">\n<title>8</title>\n<path fill=\"#8139e5\" stroke=\"#000000\" d=\"M390.5,-179.5C390.5,-179.5 295.5,-179.5 295.5,-179.5 289.5,-179.5 283.5,-173.5 283.5,-167.5 283.5,-167.5 283.5,-123.5 283.5,-123.5 283.5,-117.5 289.5,-111.5 295.5,-111.5 295.5,-111.5 390.5,-111.5 390.5,-111.5 396.5,-111.5 402.5,-117.5 402.5,-123.5 402.5,-123.5 402.5,-167.5 402.5,-167.5 402.5,-173.5 396.5,-179.5 390.5,-179.5\"/>\n<text text-anchor=\"start\" x=\"313.5\" y=\"-164.3\" font-family=\"Helvetica,sans-Serif\" font-size=\"14.00\" fill=\"#000000\">gini = 0.0</text>\n<text text-anchor=\"start\" x=\"303.5\" y=\"-149.3\" font-family=\"Helvetica,sans-Serif\" font-size=\"14.00\" fill=\"#000000\">samples = 3</text>\n<text text-anchor=\"start\" x=\"293.5\" y=\"-134.3\" font-family=\"Helvetica,sans-Serif\" font-size=\"14.00\" fill=\"#000000\">value = [0, 0, 3]</text>\n<text text-anchor=\"start\" x=\"291.5\" y=\"-119.3\" font-family=\"Helvetica,sans-Serif\" font-size=\"14.00\" fill=\"#000000\">class = virginica</text>\n</g>\n<!-- 7&#45;&gt;8 -->\n<g id=\"edge8\" class=\"edge\">\n<title>7&#45;&gt;8</title>\n<path fill=\"none\" stroke=\"#000000\" d=\"M404.1234,-222.8796C395.1768,-211.5536 385.4776,-199.2748 376.4971,-187.9058\"/>\n<polygon fill=\"#000000\" stroke=\"#000000\" points=\"379.051,-185.4926 370.1059,-179.8149 373.558,-189.8316 379.051,-185.4926\"/>\n</g>\n<!-- 9 -->\n<g id=\"node10\" class=\"node\">\n<title>9</title>\n<path fill=\"#9cf2c0\" stroke=\"#000000\" d=\"M579.5,-187C579.5,-187 432.5,-187 432.5,-187 426.5,-187 420.5,-181 420.5,-175 420.5,-175 420.5,-116 420.5,-116 420.5,-110 426.5,-104 432.5,-104 432.5,-104 579.5,-104 579.5,-104 585.5,-104 591.5,-110 591.5,-116 591.5,-116 591.5,-175 591.5,-175 591.5,-181 585.5,-187 579.5,-187\"/>\n<text text-anchor=\"start\" x=\"428.5\" y=\"-171.8\" font-family=\"Helvetica,sans-Serif\" font-size=\"14.00\" fill=\"#000000\">sepal length (cm) ≤ 6.95</text>\n<text text-anchor=\"start\" x=\"468\" y=\"-156.8\" font-family=\"Helvetica,sans-Serif\" font-size=\"14.00\" fill=\"#000000\">gini = 0.444</text>\n<text text-anchor=\"start\" x=\"466.5\" y=\"-141.8\" font-family=\"Helvetica,sans-Serif\" font-size=\"14.00\" fill=\"#000000\">samples = 3</text>\n<text text-anchor=\"start\" x=\"456.5\" y=\"-126.8\" font-family=\"Helvetica,sans-Serif\" font-size=\"14.00\" fill=\"#000000\">value = [0, 2, 1]</text>\n<text text-anchor=\"start\" x=\"450\" y=\"-111.8\" font-family=\"Helvetica,sans-Serif\" font-size=\"14.00\" fill=\"#000000\">class = versicolor</text>\n</g>\n<!-- 7&#45;&gt;9 -->\n<g id=\"edge9\" class=\"edge\">\n<title>7&#45;&gt;9</title>\n<path fill=\"none\" stroke=\"#000000\" d=\"M461.1329,-222.8796C466.1461,-214.2335 471.4813,-205.0322 476.6581,-196.1042\"/>\n<polygon fill=\"#000000\" stroke=\"#000000\" points=\"479.7758,-197.7047 481.7641,-187.2981 473.7202,-194.1934 479.7758,-197.7047\"/>\n</g>\n<!-- 10 -->\n<g id=\"node11\" class=\"node\">\n<title>10</title>\n<path fill=\"#39e581\" stroke=\"#000000\" d=\"M487,-68C487,-68 383,-68 383,-68 377,-68 371,-62 371,-56 371,-56 371,-12 371,-12 371,-6 377,0 383,0 383,0 487,0 487,0 493,0 499,-6 499,-12 499,-12 499,-56 499,-56 499,-62 493,-68 487,-68\"/>\n<text text-anchor=\"start\" x=\"405.5\" y=\"-52.8\" font-family=\"Helvetica,sans-Serif\" font-size=\"14.00\" fill=\"#000000\">gini = 0.0</text>\n<text text-anchor=\"start\" x=\"395.5\" y=\"-37.8\" font-family=\"Helvetica,sans-Serif\" font-size=\"14.00\" fill=\"#000000\">samples = 2</text>\n<text text-anchor=\"start\" x=\"385.5\" y=\"-22.8\" font-family=\"Helvetica,sans-Serif\" font-size=\"14.00\" fill=\"#000000\">value = [0, 2, 0]</text>\n<text text-anchor=\"start\" x=\"379\" y=\"-7.8\" font-family=\"Helvetica,sans-Serif\" font-size=\"14.00\" fill=\"#000000\">class = versicolor</text>\n</g>\n<!-- 9&#45;&gt;10 -->\n<g id=\"edge10\" class=\"edge\">\n<title>9&#45;&gt;10</title>\n<path fill=\"none\" stroke=\"#000000\" d=\"M479.5622,-103.9815C473.944,-95.1585 468.0012,-85.8258 462.3497,-76.9506\"/>\n<polygon fill=\"#000000\" stroke=\"#000000\" points=\"465.1416,-74.8188 456.8181,-68.2637 459.2371,-78.5787 465.1416,-74.8188\"/>\n</g>\n<!-- 11 -->\n<g id=\"node12\" class=\"node\">\n<title>11</title>\n<path fill=\"#8139e5\" stroke=\"#000000\" d=\"M624.5,-68C624.5,-68 529.5,-68 529.5,-68 523.5,-68 517.5,-62 517.5,-56 517.5,-56 517.5,-12 517.5,-12 517.5,-6 523.5,0 529.5,0 529.5,0 624.5,0 624.5,0 630.5,0 636.5,-6 636.5,-12 636.5,-12 636.5,-56 636.5,-56 636.5,-62 630.5,-68 624.5,-68\"/>\n<text text-anchor=\"start\" x=\"547.5\" y=\"-52.8\" font-family=\"Helvetica,sans-Serif\" font-size=\"14.00\" fill=\"#000000\">gini = 0.0</text>\n<text text-anchor=\"start\" x=\"537.5\" y=\"-37.8\" font-family=\"Helvetica,sans-Serif\" font-size=\"14.00\" fill=\"#000000\">samples = 1</text>\n<text text-anchor=\"start\" x=\"527.5\" y=\"-22.8\" font-family=\"Helvetica,sans-Serif\" font-size=\"14.00\" fill=\"#000000\">value = [0, 0, 1]</text>\n<text text-anchor=\"start\" x=\"525.5\" y=\"-7.8\" font-family=\"Helvetica,sans-Serif\" font-size=\"14.00\" fill=\"#000000\">class = virginica</text>\n</g>\n<!-- 9&#45;&gt;11 -->\n<g id=\"edge11\" class=\"edge\">\n<title>9&#45;&gt;11</title>\n<path fill=\"none\" stroke=\"#000000\" d=\"M532.4378,-103.9815C538.056,-95.1585 543.9988,-85.8258 549.6503,-76.9506\"/>\n<polygon fill=\"#000000\" stroke=\"#000000\" points=\"552.7629,-78.5787 555.1819,-68.2637 546.8584,-74.8188 552.7629,-78.5787\"/>\n</g>\n<!-- 13 -->\n<g id=\"node14\" class=\"node\">\n<title>13</title>\n<path fill=\"#c09cf2\" stroke=\"#000000\" d=\"M747.5,-306C747.5,-306 600.5,-306 600.5,-306 594.5,-306 588.5,-300 588.5,-294 588.5,-294 588.5,-235 588.5,-235 588.5,-229 594.5,-223 600.5,-223 600.5,-223 747.5,-223 747.5,-223 753.5,-223 759.5,-229 759.5,-235 759.5,-235 759.5,-294 759.5,-294 759.5,-300 753.5,-306 747.5,-306\"/>\n<text text-anchor=\"start\" x=\"596.5\" y=\"-290.8\" font-family=\"Helvetica,sans-Serif\" font-size=\"14.00\" fill=\"#000000\">sepal length (cm) ≤ 5.95</text>\n<text text-anchor=\"start\" x=\"636\" y=\"-275.8\" font-family=\"Helvetica,sans-Serif\" font-size=\"14.00\" fill=\"#000000\">gini = 0.444</text>\n<text text-anchor=\"start\" x=\"634.5\" y=\"-260.8\" font-family=\"Helvetica,sans-Serif\" font-size=\"14.00\" fill=\"#000000\">samples = 3</text>\n<text text-anchor=\"start\" x=\"624.5\" y=\"-245.8\" font-family=\"Helvetica,sans-Serif\" font-size=\"14.00\" fill=\"#000000\">value = [0, 1, 2]</text>\n<text text-anchor=\"start\" x=\"622.5\" y=\"-230.8\" font-family=\"Helvetica,sans-Serif\" font-size=\"14.00\" fill=\"#000000\">class = virginica</text>\n</g>\n<!-- 12&#45;&gt;13 -->\n<g id=\"edge13\" class=\"edge\">\n<title>12&#45;&gt;13</title>\n<path fill=\"none\" stroke=\"#000000\" d=\"M674,-341.8796C674,-333.6838 674,-324.9891 674,-316.5013\"/>\n<polygon fill=\"#000000\" stroke=\"#000000\" points=\"677.5001,-316.298 674,-306.2981 670.5001,-316.2981 677.5001,-316.298\"/>\n</g>\n<!-- 16 -->\n<g id=\"node17\" class=\"node\">\n<title>16</title>\n<path fill=\"#8139e5\" stroke=\"#000000\" d=\"M888.5,-298.5C888.5,-298.5 789.5,-298.5 789.5,-298.5 783.5,-298.5 777.5,-292.5 777.5,-286.5 777.5,-286.5 777.5,-242.5 777.5,-242.5 777.5,-236.5 783.5,-230.5 789.5,-230.5 789.5,-230.5 888.5,-230.5 888.5,-230.5 894.5,-230.5 900.5,-236.5 900.5,-242.5 900.5,-242.5 900.5,-286.5 900.5,-286.5 900.5,-292.5 894.5,-298.5 888.5,-298.5\"/>\n<text text-anchor=\"start\" x=\"809.5\" y=\"-283.3\" font-family=\"Helvetica,sans-Serif\" font-size=\"14.00\" fill=\"#000000\">gini = 0.0</text>\n<text text-anchor=\"start\" x=\"795\" y=\"-268.3\" font-family=\"Helvetica,sans-Serif\" font-size=\"14.00\" fill=\"#000000\">samples = 43</text>\n<text text-anchor=\"start\" x=\"785.5\" y=\"-253.3\" font-family=\"Helvetica,sans-Serif\" font-size=\"14.00\" fill=\"#000000\">value = [0, 0, 43]</text>\n<text text-anchor=\"start\" x=\"787.5\" y=\"-238.3\" font-family=\"Helvetica,sans-Serif\" font-size=\"14.00\" fill=\"#000000\">class = virginica</text>\n</g>\n<!-- 12&#45;&gt;16 -->\n<g id=\"edge16\" class=\"edge\">\n<title>12&#45;&gt;16</title>\n<path fill=\"none\" stroke=\"#000000\" d=\"M731.709,-341.8796C748.407,-329.8368 766.5987,-316.7167 783.1793,-304.7586\"/>\n<polygon fill=\"#000000\" stroke=\"#000000\" points=\"785.6232,-307.3113 791.6865,-298.623 781.5285,-301.6339 785.6232,-307.3113\"/>\n</g>\n<!-- 14 -->\n<g id=\"node15\" class=\"node\">\n<title>14</title>\n<path fill=\"#39e581\" stroke=\"#000000\" d=\"M726,-179.5C726,-179.5 622,-179.5 622,-179.5 616,-179.5 610,-173.5 610,-167.5 610,-167.5 610,-123.5 610,-123.5 610,-117.5 616,-111.5 622,-111.5 622,-111.5 726,-111.5 726,-111.5 732,-111.5 738,-117.5 738,-123.5 738,-123.5 738,-167.5 738,-167.5 738,-173.5 732,-179.5 726,-179.5\"/>\n<text text-anchor=\"start\" x=\"644.5\" y=\"-164.3\" font-family=\"Helvetica,sans-Serif\" font-size=\"14.00\" fill=\"#000000\">gini = 0.0</text>\n<text text-anchor=\"start\" x=\"634.5\" y=\"-149.3\" font-family=\"Helvetica,sans-Serif\" font-size=\"14.00\" fill=\"#000000\">samples = 1</text>\n<text text-anchor=\"start\" x=\"624.5\" y=\"-134.3\" font-family=\"Helvetica,sans-Serif\" font-size=\"14.00\" fill=\"#000000\">value = [0, 1, 0]</text>\n<text text-anchor=\"start\" x=\"618\" y=\"-119.3\" font-family=\"Helvetica,sans-Serif\" font-size=\"14.00\" fill=\"#000000\">class = versicolor</text>\n</g>\n<!-- 13&#45;&gt;14 -->\n<g id=\"edge14\" class=\"edge\">\n<title>13&#45;&gt;14</title>\n<path fill=\"none\" stroke=\"#000000\" d=\"M674,-222.8796C674,-212.2134 674,-200.7021 674,-189.9015\"/>\n<polygon fill=\"#000000\" stroke=\"#000000\" points=\"677.5001,-189.8149 674,-179.8149 670.5001,-189.815 677.5001,-189.8149\"/>\n</g>\n<!-- 15 -->\n<g id=\"node16\" class=\"node\">\n<title>15</title>\n<path fill=\"#8139e5\" stroke=\"#000000\" d=\"M863.5,-179.5C863.5,-179.5 768.5,-179.5 768.5,-179.5 762.5,-179.5 756.5,-173.5 756.5,-167.5 756.5,-167.5 756.5,-123.5 756.5,-123.5 756.5,-117.5 762.5,-111.5 768.5,-111.5 768.5,-111.5 863.5,-111.5 863.5,-111.5 869.5,-111.5 875.5,-117.5 875.5,-123.5 875.5,-123.5 875.5,-167.5 875.5,-167.5 875.5,-173.5 869.5,-179.5 863.5,-179.5\"/>\n<text text-anchor=\"start\" x=\"786.5\" y=\"-164.3\" font-family=\"Helvetica,sans-Serif\" font-size=\"14.00\" fill=\"#000000\">gini = 0.0</text>\n<text text-anchor=\"start\" x=\"776.5\" y=\"-149.3\" font-family=\"Helvetica,sans-Serif\" font-size=\"14.00\" fill=\"#000000\">samples = 2</text>\n<text text-anchor=\"start\" x=\"766.5\" y=\"-134.3\" font-family=\"Helvetica,sans-Serif\" font-size=\"14.00\" fill=\"#000000\">value = [0, 0, 2]</text>\n<text text-anchor=\"start\" x=\"764.5\" y=\"-119.3\" font-family=\"Helvetica,sans-Serif\" font-size=\"14.00\" fill=\"#000000\">class = virginica</text>\n</g>\n<!-- 13&#45;&gt;15 -->\n<g id=\"edge15\" class=\"edge\">\n<title>13&#45;&gt;15</title>\n<path fill=\"none\" stroke=\"#000000\" d=\"M723.6647,-222.8796C737.8358,-211.0038 753.257,-198.0804 767.3658,-186.2568\"/>\n<polygon fill=\"#000000\" stroke=\"#000000\" points=\"769.6363,-188.9206 775.0528,-179.8149 765.1402,-183.5554 769.6363,-188.9206\"/>\n</g>\n</g>\n</svg>\n"
          },
          "metadata": {
            "tags": []
          },
          "execution_count": 8
        }
      ]
    },
    {
      "cell_type": "code",
      "metadata": {
        "colab": {
          "base_uri": "https://localhost:8080/"
        },
        "id": "kgbK3GoIyvds",
        "outputId": "6fcd7821-a6f9-41d9-e07a-0ddcdd67cca5"
      },
      "source": [
        "from sklearn.datasets import load_iris\n",
        "from sklearn.tree import DecisionTreeClassifier\n",
        "from sklearn.tree import export_text\n",
        "iris = load_iris()\n",
        "decision_tree = DecisionTreeClassifier(random_state=0, max_depth=2)\n",
        "decision_tree = decision_tree.fit(iris.data, iris.target)\n",
        "r = export_text(decision_tree, feature_names=iris['feature_names'])\n",
        "print(r)"
      ],
      "execution_count": null,
      "outputs": [
        {
          "output_type": "stream",
          "text": [
            "|--- petal width (cm) <= 0.80\n",
            "|   |--- class: 0\n",
            "|--- petal width (cm) >  0.80\n",
            "|   |--- petal width (cm) <= 1.75\n",
            "|   |   |--- class: 1\n",
            "|   |--- petal width (cm) >  1.75\n",
            "|   |   |--- class: 2\n",
            "\n"
          ],
          "name": "stdout"
        }
      ]
    },
    {
      "cell_type": "code",
      "metadata": {
        "colab": {
          "base_uri": "https://localhost:8080/"
        },
        "id": "RAksIOOTzm2x",
        "outputId": "f929dd97-4a7d-4f2c-85db-33ebb8da173f"
      },
      "source": [
        "from sklearn import tree\n",
        "X = [[0, 0], [2, 2]]\n",
        "y = [0.5, 2.5]\n",
        "clf = tree.DecisionTreeRegressor()\n",
        "clf = clf.fit(X, y)\n",
        "clf.predict([[1, 1]])"
      ],
      "execution_count": null,
      "outputs": [
        {
          "output_type": "execute_result",
          "data": {
            "text/plain": [
              "array([0.5])"
            ]
          },
          "metadata": {
            "tags": []
          },
          "execution_count": 10
        }
      ]
    },
    {
      "cell_type": "markdown",
      "metadata": {
        "id": "op7vf7Vj2ESA"
      },
      "source": [
        "Arvore com variacao da Criterion"
      ]
    },
    {
      "cell_type": "markdown",
      "metadata": {
        "id": "00ECySkt2OIu"
      },
      "source": [
        "gini"
      ]
    },
    {
      "cell_type": "code",
      "metadata": {
        "colab": {
          "base_uri": "https://localhost:8080/",
          "height": 622
        },
        "id": "Sz0SQL5tdwHp",
        "outputId": "4a26b518-6427-41ff-b5f1-04b3910c4487"
      },
      "source": [
        "from sklearn import tree \n",
        "from sklearn.datasets import load_iris \n",
        "from sklearn import tree \n",
        "from sklearn.model_selection import train_test_split\n",
        "\n",
        "import numpy as np\n",
        "from sklearn import svm\n",
        "from sklearn.model_selection import cross_val_score\n",
        "from sklearn.model_selection import KFold\n",
        "from sklearn.model_selection import LeaveOneOut\n",
        "\n",
        "X = [[0, 0], [1, 1]] \n",
        "Y = [0, 1] \n",
        "clf = tree.DecisionTreeClassifier() \n",
        "clf = clf.fit(X, Y) \n",
        "clf.predict([[2., 2.]]) # classifica o novo exemplo \n",
        "\n",
        "X, y = load_iris(return_X_y=True)\n",
        "#print(X.shape, y.shape)\n",
        "#print(X.shape)\n",
        "#print(y)\n",
        "clf = tree.DecisionTreeClassifier(criterion='gini') \n",
        "clf = clf.fit(X, y) \n",
        "#tree.plot_tree(clf) \n",
        "X_train, X_test, y_train, y_test = train_test_split(X, y, test_size=0.30, random_state=0)\n",
        "#print(X_train.shape, y_train.shape)\n",
        "#print(X_test.shape, y_test.shape)\n",
        "#X_test.shape\n",
        "#X_train.shape\n",
        "clf = tree.DecisionTreeClassifier(criterion='gini')\n",
        "clf = clf.fit(X_train, y_train)\n",
        "tree.plot_tree(clf)\n",
        "resposta = clf.predict(X_test)\n",
        "print('Predição: ')\n",
        "print(resposta)\n",
        "print('\\n')\n",
        "print('groundtruth')\n",
        "print(y_test)\n",
        "\n",
        "cont = 0\n",
        "# o tamanho do range é igual ao tamanho do batch de test\n",
        "for i in range (45):\n",
        "  if clf.predict(X_test)[i] == y_test[i]:\n",
        "    cont = cont + 1\n",
        "#print(cont) \n",
        "print('\\n')\n",
        "print('Acc')\n",
        "print(\"{:.2%}\".format((cont/45))) \n",
        "\n",
        "#clf = svm.SVC(kernel='linear', C=1).fit(X_train, y_train)\n",
        "print('\\n')\n",
        "print('holdout cross-validation')\n",
        "#print(clf.score(X_test, y_test))\n",
        "\n",
        "\n",
        "#clf = svm.SVC(kernel='linear', C=1, random_state=42)\n",
        "scores = cross_val_score(clf, X, y, cv=5)\n",
        "print(\"%0.2f de acuracia com desvio padrao de %0.2f\" % (scores.mean(), scores.std()))\n",
        "\n",
        "print('\\nK-fold')\n",
        "X_train, X_test, y_train, y_test =  X[train], X[test], y[train], y[test]\n",
        "kf = KFold(n_splits=4)\n",
        "for train, test in kf.split(X):\n",
        "  #clf = svm.SVC(kernel='linear', C=1)\n",
        "  scores = cross_val_score(clf, X, y)\n",
        "print(\"%0.2f de acuracia com desvio padrao de %0.2f\" % (scores.mean(), scores.std()))\n",
        "    #print(\"%s\\n \\n%s\\n\" % (train, test))\n",
        "\n",
        "print('\\nLeave One Out')\n",
        "\n",
        "loo = LeaveOneOut()\n",
        "for train, test in loo.split(X):\n",
        "  #clf = svm.SVC(kernel='linear', C=1)\n",
        "  scores = cross_val_score(clf, X, y)\n",
        "print(\"%0.2f de acuracia com desvio padrao de %0.2f\" % (scores.mean(), scores.std()))\n",
        "     #print(\"%s %s\" % (train, test))"
      ],
      "execution_count": null,
      "outputs": [
        {
          "output_type": "stream",
          "text": [
            "Predição: \n",
            "[2 1 0 2 0 2 0 1 1 1 2 1 1 1 1 0 1 1 0 0 2 1 0 0 2 0 0 1 1 0 2 1 0 2 2 1 0\n",
            " 2 1 1 2 0 2 0 0]\n",
            "\n",
            "\n",
            "groundtruth\n",
            "[2 1 0 2 0 2 0 1 1 1 2 1 1 1 1 0 1 1 0 0 2 1 0 0 2 0 0 1 1 0 2 1 0 2 2 1 0\n",
            " 1 1 1 2 0 2 0 0]\n",
            "\n",
            "\n",
            "Acc\n",
            "97.78%\n",
            "\n",
            "\n",
            "holdout cross-validation\n",
            "0.96 de acuracia com desvio padrao de 0.03\n",
            "\n",
            "K-fold\n",
            "0.97 de acuracia com desvio padrao de 0.04\n",
            "\n",
            "Leave One Out\n",
            "0.96 de acuracia com desvio padrao de 0.03\n"
          ],
          "name": "stdout"
        },
        {
          "output_type": "display_data",
          "data": {
            "image/png": "[encoded data removed]",
            "text/plain": [
              "<Figure size 432x288 with 1 Axes>"
            ]
          },
          "metadata": {
            "tags": [],
            "needs_background": "light"
          }
        }
      ]
    },
    {
      "cell_type": "markdown",
      "metadata": {
        "id": "CnyKXXJtgO2Q"
      },
      "source": [
        "entropy"
      ]
    },
    {
      "cell_type": "code",
      "metadata": {
        "colab": {
          "base_uri": "https://localhost:8080/",
          "height": 622
        },
        "id": "ZrNyR2y9gQiJ",
        "outputId": "ce1600db-7e55-4126-9fdc-bcff4025f540"
      },
      "source": [
        "from sklearn import tree \n",
        "from sklearn.datasets import load_iris \n",
        "from sklearn import tree \n",
        "from sklearn.model_selection import train_test_split\n",
        "\n",
        "import numpy as np\n",
        "from sklearn import svm\n",
        "from sklearn.model_selection import cross_val_score\n",
        "from sklearn.model_selection import KFold\n",
        "from sklearn.model_selection import LeaveOneOut\n",
        "\n",
        "X = [[0, 0], [1, 1]] \n",
        "Y = [0, 1] \n",
        "clf = tree.DecisionTreeClassifier() \n",
        "clf = clf.fit(X, Y) \n",
        "clf.predict([[2., 2.]]) # classifica o novo exemplo \n",
        "\n",
        "X, y = load_iris(return_X_y=True)\n",
        "#print(X.shape)\n",
        "#print(y)\n",
        "clf = tree.DecisionTreeClassifier(criterion='entropy') \n",
        "clf = clf.fit(X, y) \n",
        "#tree.plot_tree(clf) \n",
        "X_train, X_test, y_train, y_test = train_test_split(X, y, test_size=0.30, random_state=0)\n",
        "#X_test.shape\n",
        "#X_train.shape\n",
        "clf = tree.DecisionTreeClassifier(criterion='entropy')\n",
        "clf = clf.fit(X_train, y_train)\n",
        "tree.plot_tree(clf)\n",
        "resposta = clf.predict(X_test)\n",
        "print('Predição: ')\n",
        "print(resposta)\n",
        "print('\\n')\n",
        "print('groundtruth')\n",
        "print(y_test)\n",
        "\n",
        "cont = 0\n",
        "for i in range (45):\n",
        "  if clf.predict(X_test)[i] == y_test[i]:\n",
        "    cont = cont + 1\n",
        "#print(cont) \n",
        "print('\\n')\n",
        "print('Acc')\n",
        "print(\"{:.2%}\".format((cont/45))) \n",
        "\n",
        "#clf = svm.SVC(kernel='linear', C=1).fit(X_train, y_train)\n",
        "print('\\n')\n",
        "print('holdout cross-validation')\n",
        "#print(clf.score(X_test, y_test))\n",
        "\n",
        "\n",
        "#clf = svm.SVC(kernel='linear', C=1, random_state=42)\n",
        "scores = cross_val_score(clf, X, y, cv=5)\n",
        "print(\"%0.2f de acuracia com desvio padrao de %0.2f\" % (scores.mean(), scores.std()))\n",
        "\n",
        "print('\\nK-fold')\n",
        "X_train, X_test, y_train, y_test =  X[train], X[test], y[train], y[test]\n",
        "kf = KFold(n_splits=4)\n",
        "for train, test in kf.split(X):\n",
        "  #clf = svm.SVC(kernel='linear', C=1)\n",
        "  scores = cross_val_score(clf, X, y)\n",
        "print(\"%0.2f de acuracia com desvio padrao de %0.2f\" % (scores.mean(), scores.std()))\n",
        "    #print(\"%s\\n \\n%s\\n\" % (train, test))\n",
        "\n",
        "print('\\nLeave One Out')\n",
        "\n",
        "loo = LeaveOneOut()\n",
        "for train, test in loo.split(X):\n",
        "  #clf = svm.SVC(kernel='linear', C=1)\n",
        "  scores = cross_val_score(clf, X, y)\n",
        "print(\"%0.2f de acuracia com desvio padrao de %0.2f\" % (scores.mean(), scores.std()))\n",
        "     #print(\"%s %s\" % (train, test))"
      ],
      "execution_count": null,
      "outputs": [
        {
          "output_type": "stream",
          "text": [
            "Predição: \n",
            "[2 1 0 2 0 2 0 1 1 1 2 1 1 1 1 0 1 1 0 0 2 1 0 0 2 0 0 1 1 0 2 1 0 2 2 1 0\n",
            " 2 1 1 2 0 2 0 0]\n",
            "\n",
            "\n",
            "groundtruth\n",
            "[2 1 0 2 0 2 0 1 1 1 2 1 1 1 1 0 1 1 0 0 2 1 0 0 2 0 0 1 1 0 2 1 0 2 2 1 0\n",
            " 1 1 1 2 0 2 0 0]\n",
            "\n",
            "\n",
            "Acc\n",
            "97.78%\n",
            "\n",
            "\n",
            "holdout cross-validation\n",
            "0.96 de acuracia com desvio padrao de 0.03\n",
            "\n",
            "K-fold\n",
            "0.95 de acuracia com desvio padrao de 0.03\n",
            "\n",
            "Leave One Out\n",
            "0.95 de acuracia com desvio padrao de 0.03\n"
          ],
          "name": "stdout"
        },
        {
          "output_type": "display_data",
          "data": {
            "image/png": "[encoded data removed]",
            "text/plain": [
              "<Figure size 432x288 with 1 Axes>"
            ]
          },
          "metadata": {
            "tags": [],
            "needs_background": "light"
          }
        }
      ]
    },
    {
      "cell_type": "markdown",
      "metadata": {
        "id": "u7z6-jlCgvCB"
      },
      "source": [
        "Arvore com variação do Splitter"
      ]
    },
    {
      "cell_type": "markdown",
      "metadata": {
        "id": "1wY6bed2g4Ne"
      },
      "source": [
        "best"
      ]
    },
    {
      "cell_type": "code",
      "metadata": {
        "colab": {
          "base_uri": "https://localhost:8080/",
          "height": 622
        },
        "id": "yeInj_N6g2GO",
        "outputId": "b531f0b4-ee0a-4686-a5ff-bc841749d485"
      },
      "source": [
        "from sklearn import tree \n",
        "from sklearn.datasets import load_iris \n",
        "from sklearn import tree \n",
        "from sklearn.model_selection import train_test_split\n",
        "\n",
        "import numpy as np\n",
        "from sklearn import svm\n",
        "from sklearn.model_selection import cross_val_score\n",
        "from sklearn.model_selection import KFold\n",
        "from sklearn.model_selection import LeaveOneOut\n",
        "\n",
        "X = [[0, 0], [1, 1]] \n",
        "Y = [0, 1] \n",
        "clf = tree.DecisionTreeClassifier() \n",
        "clf = clf.fit(X, Y) \n",
        "clf.predict([[2., 2.]]) # classifica o novo exemplo \n",
        "\n",
        "X, y = load_iris(return_X_y=True)\n",
        "#print(X.shape)\n",
        "#print(y)\n",
        "clf = tree.DecisionTreeClassifier(splitter = 'best') \n",
        "clf = clf.fit(X, y) \n",
        "#tree.plot_tree(clf) \n",
        "X_train, X_test, y_train, y_test = train_test_split(X, y, test_size=0.30, random_state=0)\n",
        "#X_test.shape\n",
        "#X_train.shape\n",
        "clf = tree.DecisionTreeClassifier(splitter = 'best')\n",
        "clf = clf.fit(X_train, y_train)\n",
        "tree.plot_tree(clf)\n",
        "resposta = clf.predict(X_test)\n",
        "print('Predição: ')\n",
        "print(resposta)\n",
        "print('\\n')\n",
        "print('groundtruth')\n",
        "print(y_test)\n",
        "\n",
        "cont = 0\n",
        "for i in range (45):\n",
        "  if clf.predict(X_test)[i] == y_test[i]:\n",
        "    cont = cont + 1\n",
        "#print(cont) \n",
        "print('\\n')\n",
        "print('Acc')\n",
        "print(\"{:.2%}\".format((cont/45))) \n",
        "\n",
        "#clf = svm.SVC(kernel='linear', C=1).fit(X_train, y_train)\n",
        "print('\\n')\n",
        "print('holdout cross-validation')\n",
        "#print(clf.score(X_test, y_test))\n",
        "\n",
        "\n",
        "#clf = svm.SVC(kernel='linear', C=1, random_state=42)\n",
        "scores = cross_val_score(clf, X, y, cv=5)\n",
        "print(\"%0.2f de acuracia com desvio padrao de %0.2f\" % (scores.mean(), scores.std()))\n",
        "\n",
        "print('\\nK-fold')\n",
        "X_train, X_test, y_train, y_test =  X[train], X[test], y[train], y[test]\n",
        "kf = KFold(n_splits=4)\n",
        "for train, test in kf.split(X):\n",
        "  #clf = svm.SVC(kernel='linear', C=1)\n",
        "  scores = cross_val_score(clf, X, y)\n",
        "print(\"%0.2f de acuracia com desvio padrao de %0.2f\" % (scores.mean(), scores.std()))\n",
        "    #print(\"%s\\n \\n%s\\n\" % (train, test))\n",
        "\n",
        "print('\\nLeave One Out')\n",
        "\n",
        "loo = LeaveOneOut()\n",
        "for train, test in loo.split(X):\n",
        "  #clf = svm.SVC(kernel='linear', C=1)\n",
        "  scores = cross_val_score(clf, X, y)\n",
        "print(\"%0.2f de acuracia com desvio padrao de %0.2f\" % (scores.mean(), scores.std()))\n",
        "     #print(\"%s %s\" % (train, test))"
      ],
      "execution_count": null,
      "outputs": [
        {
          "output_type": "stream",
          "text": [
            "Predição: \n",
            "[2 1 0 2 0 2 0 1 1 1 2 1 1 1 1 0 1 1 0 0 2 1 0 0 2 0 0 1 1 0 2 1 0 2 2 1 0\n",
            " 2 1 1 2 0 2 0 0]\n",
            "\n",
            "\n",
            "groundtruth\n",
            "[2 1 0 2 0 2 0 1 1 1 2 1 1 1 1 0 1 1 0 0 2 1 0 0 2 0 0 1 1 0 2 1 0 2 2 1 0\n",
            " 1 1 1 2 0 2 0 0]\n",
            "\n",
            "\n",
            "Acc\n",
            "97.78%\n",
            "\n",
            "\n",
            "holdout cross-validation\n",
            "0.96 de acuracia com desvio padrao de 0.03\n",
            "\n",
            "K-fold\n",
            "0.96 de acuracia com desvio padrao de 0.03\n",
            "\n",
            "Leave One Out\n",
            "0.96 de acuracia com desvio padrao de 0.03\n"
          ],
          "name": "stdout"
        },
        {
          "output_type": "display_data",
          "data": {
            "image/png": "[encoded data removed]",
            "text/plain": [
              "<Figure size 432x288 with 1 Axes>"
            ]
          },
          "metadata": {
            "tags": [],
            "needs_background": "light"
          }
        }
      ]
    },
    {
      "cell_type": "markdown",
      "metadata": {
        "id": "sZGtnCZQhQy3"
      },
      "source": [
        "random"
      ]
    },
    {
      "cell_type": "code",
      "metadata": {
        "colab": {
          "base_uri": "https://localhost:8080/",
          "height": 623
        },
        "id": "wFviitUrhTPf",
        "outputId": "4532bb7d-eed9-4a5c-f7ef-b3637b931fcd"
      },
      "source": [
        "from sklearn import tree \n",
        "from sklearn.datasets import load_iris \n",
        "from sklearn import tree \n",
        "from sklearn.model_selection import train_test_split\n",
        "\n",
        "import numpy as np\n",
        "from sklearn import svm\n",
        "from sklearn.model_selection import cross_val_score\n",
        "from sklearn.model_selection import KFold\n",
        "from sklearn.model_selection import LeaveOneOut\n",
        "\n",
        "X = [[0, 0], [1, 1]] \n",
        "Y = [0, 1] \n",
        "clf = tree.DecisionTreeClassifier() \n",
        "clf = clf.fit(X, Y) \n",
        "clf.predict([[2., 2.]]) # classifica o novo exemplo \n",
        "\n",
        "X, y = load_iris(return_X_y=True)\n",
        "#print(X.shape)\n",
        "#print(y)\n",
        "clf = tree.DecisionTreeClassifier(splitter = 'random') \n",
        "clf = clf.fit(X, y) \n",
        "#tree.plot_tree(clf) \n",
        "X_train, X_test, y_train, y_test = train_test_split(X, y, test_size=0.30, random_state=0)\n",
        "#X_test.shape\n",
        "#X_train.shape\n",
        "clf = tree.DecisionTreeClassifier(splitter = 'random')\n",
        "clf = clf.fit(X_train, y_train)\n",
        "tree.plot_tree(clf)\n",
        "resposta = clf.predict(X_test)\n",
        "print('Predição: ')\n",
        "print(resposta)\n",
        "print('\\n')\n",
        "print('groundtruth')\n",
        "print(y_test)\n",
        "\n",
        "cont = 0\n",
        "for i in range (45):\n",
        "  if clf.predict(X_test)[i] == y_test[i]:\n",
        "    cont = cont + 1\n",
        "#print(cont) \n",
        "print('\\n')\n",
        "print('Acc')\n",
        "print(\"{:.2%}\".format((cont/45))) \n",
        "\n",
        "#clf = svm.SVC(kernel='linear', C=1).fit(X_train, y_train)\n",
        "print('\\n')\n",
        "print('holdout cross-validation')\n",
        "#print(clf.score(X_test, y_test))\n",
        "\n",
        "\n",
        "#clf = svm.SVC(kernel='linear', C=1, random_state=42)\n",
        "scores = cross_val_score(clf, X, y, cv=5)\n",
        "print(\"%0.2f de acuracia com desvio padrao de %0.2f\" % (scores.mean(), scores.std()))\n",
        "\n",
        "print('\\nK-fold')\n",
        "X_train, X_test, y_train, y_test =  X[train], X[test], y[train], y[test]\n",
        "kf = KFold(n_splits=4)\n",
        "for train, test in kf.split(X):\n",
        "  #clf = svm.SVC(kernel='linear', C=1)\n",
        "  scores = cross_val_score(clf, X, y)\n",
        "print(\"%0.2f de acuracia com desvio padrao de %0.2f\" % (scores.mean(), scores.std()))\n",
        "    #print(\"%s\\n \\n%s\\n\" % (train, test))\n",
        "\n",
        "print('\\nLeave One Out')\n",
        "\n",
        "loo = LeaveOneOut()\n",
        "for train, test in loo.split(X):\n",
        "  #clf = svm.SVC(kernel='linear', C=1)\n",
        "  scores = cross_val_score(clf, X, y)\n",
        "print(\"%0.2f de acuracia com desvio padrao de %0.2f\" % (scores.mean(), scores.std()))\n",
        "     #print(\"%s %s\" % (train, test))"
      ],
      "execution_count": null,
      "outputs": [
        {
          "output_type": "stream",
          "text": [
            "Predição: \n",
            "[2 1 0 2 0 2 0 1 1 1 2 1 1 1 1 0 1 1 0 0 2 1 0 0 2 0 0 1 1 0 2 1 0 2 2 1 0\n",
            " 2 1 1 2 0 2 1 0]\n",
            "\n",
            "\n",
            "groundtruth\n",
            "[2 1 0 2 0 2 0 1 1 1 2 1 1 1 1 0 1 1 0 0 2 1 0 0 2 0 0 1 1 0 2 1 0 2 2 1 0\n",
            " 1 1 1 2 0 2 0 0]\n",
            "\n",
            "\n",
            "Acc\n",
            "95.56%\n",
            "\n",
            "\n",
            "holdout cross-validation\n",
            "0.96 de acuracia com desvio padrao de 0.01\n",
            "\n",
            "K-fold\n",
            "0.95 de acuracia com desvio padrao de 0.02\n",
            "\n",
            "Leave One Out\n",
            "0.94 de acuracia com desvio padrao de 0.05\n"
          ],
          "name": "stdout"
        },
        {
          "output_type": "display_data",
          "data": {
            "image/png": "[encoded data removed]",
            "text/plain": [
              "<Figure size 432x288 with 1 Axes>"
            ]
          },
          "metadata": {
            "tags": [],
            "needs_background": "light"
          }
        }
      ]
    },
    {
      "cell_type": "markdown",
      "metadata": {
        "id": "LcH1sV3XiFfx"
      },
      "source": [
        "Arvore com variação de max_depth"
      ]
    },
    {
      "cell_type": "markdown",
      "metadata": {
        "id": "6AIPNm3riNy0"
      },
      "source": [
        "none"
      ]
    },
    {
      "cell_type": "code",
      "metadata": {
        "colab": {
          "base_uri": "https://localhost:8080/",
          "height": 622
        },
        "id": "j14pEboKiPVN",
        "outputId": "bf9f9941-537c-4e1f-c806-447f286daf57"
      },
      "source": [
        "from sklearn import tree \n",
        "from sklearn.datasets import load_iris \n",
        "from sklearn import tree \n",
        "from sklearn.model_selection import train_test_split\n",
        "\n",
        "import numpy as np\n",
        "from sklearn import svm\n",
        "from sklearn.model_selection import cross_val_score\n",
        "from sklearn.model_selection import KFold\n",
        "from sklearn.model_selection import LeaveOneOut\n",
        "\n",
        "\n",
        "X = [[0, 0], [1, 1]] \n",
        "Y = [0, 1] \n",
        "clf = tree.DecisionTreeClassifier() \n",
        "clf = clf.fit(X, Y) \n",
        "clf.predict([[2., 2.]]) # classifica o novo exemplo \n",
        "\n",
        "X, y = load_iris(return_X_y=True)\n",
        "#print(X.shape)\n",
        "#print(y)\n",
        "clf = tree.DecisionTreeClassifier(max_depth = None) \n",
        "clf = clf.fit(X, y) \n",
        "#tree.plot_tree(clf) \n",
        "X_train, X_test, y_train, y_test = train_test_split(X, y, test_size=0.30, random_state=0)\n",
        "#X_test.shape\n",
        "#X_train.shape\n",
        "clf = tree.DecisionTreeClassifier(max_depth = None)\n",
        "clf = clf.fit(X_train, y_train)\n",
        "tree.plot_tree(clf)\n",
        "resposta = clf.predict(X_test)\n",
        "print('Predição: ')\n",
        "print(resposta)\n",
        "print('\\n')\n",
        "print('groundtruth')\n",
        "print(y_test)\n",
        "\n",
        "cont = 0\n",
        "for i in range (45):\n",
        "  if clf.predict(X_test)[i] == y_test[i]:\n",
        "    cont = cont + 1\n",
        "#print(cont) \n",
        "print('\\n')\n",
        "print('Acc')\n",
        "print(\"{:.2%}\".format((cont/45))) \n",
        "\n",
        "#clf = svm.SVC(kernel='linear', C=1).fit(X_train, y_train)\n",
        "print('\\n')\n",
        "print('holdout cross-validation')\n",
        "#print(clf.score(X_test, y_test))\n",
        "\n",
        "\n",
        "#clf = svm.SVC(kernel='linear', C=1, random_state=42)\n",
        "scores = cross_val_score(clf, X, y, cv=5)\n",
        "print(\"%0.2f de acuracia com desvio padrao de %0.2f\" % (scores.mean(), scores.std()))\n",
        "\n",
        "print('\\nK-fold')\n",
        "X_train, X_test, y_train, y_test =  X[train], X[test], y[train], y[test]\n",
        "kf = KFold(n_splits=4)\n",
        "for train, test in kf.split(X):\n",
        "  #clf = svm.SVC(kernel='linear', C=1)\n",
        "  scores = cross_val_score(clf, X, y)\n",
        "print(\"%0.2f de acuracia com desvio padrao de %0.2f\" % (scores.mean(), scores.std()))\n",
        "    #print(\"%s\\n \\n%s\\n\" % (train, test))\n",
        "\n",
        "print('\\nLeave One Out')\n",
        "\n",
        "loo = LeaveOneOut()\n",
        "for train, test in loo.split(X):\n",
        "  #clf = svm.SVC(kernel='linear', C=1)\n",
        "  scores = cross_val_score(clf, X, y)\n",
        "print(\"%0.2f de acuracia com desvio padrao de %0.2f\" % (scores.mean(), scores.std()))\n",
        "     #print(\"%s %s\" % (train, test))"
      ],
      "execution_count": null,
      "outputs": [
        {
          "output_type": "stream",
          "text": [
            "Predição: \n",
            "[2 1 0 2 0 2 0 1 1 1 2 1 1 1 1 0 1 1 0 0 2 1 0 0 2 0 0 1 1 0 2 1 0 2 2 1 0\n",
            " 2 1 1 2 0 2 0 0]\n",
            "\n",
            "\n",
            "groundtruth\n",
            "[2 1 0 2 0 2 0 1 1 1 2 1 1 1 1 0 1 1 0 0 2 1 0 0 2 0 0 1 1 0 2 1 0 2 2 1 0\n",
            " 1 1 1 2 0 2 0 0]\n",
            "\n",
            "\n",
            "Acc\n",
            "97.78%\n",
            "\n",
            "\n",
            "holdout cross-validation\n",
            "0.96 de acuracia com desvio padrao de 0.03\n",
            "\n",
            "K-fold\n",
            "0.97 de acuracia com desvio padrao de 0.04\n",
            "\n",
            "Leave One Out\n",
            "0.97 de acuracia com desvio padrao de 0.04\n"
          ],
          "name": "stdout"
        },
        {
          "output_type": "display_data",
          "data": {
            "image/png": "[encoded data removed]",
            "text/plain": [
              "<Figure size 432x288 with 1 Axes>"
            ]
          },
          "metadata": {
            "tags": [],
            "needs_background": "light"
          }
        }
      ]
    },
    {
      "cell_type": "markdown",
      "metadata": {
        "id": "CKinNxqDi8dC"
      },
      "source": [
        "2"
      ]
    },
    {
      "cell_type": "code",
      "metadata": {
        "colab": {
          "base_uri": "https://localhost:8080/",
          "height": 622
        },
        "id": "aSIF6ORBi7u9",
        "outputId": "57430625-d8bb-4590-97be-d712403a08a6"
      },
      "source": [
        "from sklearn import tree \n",
        "from sklearn.datasets import load_iris \n",
        "from sklearn import tree \n",
        "from sklearn.model_selection import train_test_split\n",
        "\n",
        "import numpy as np\n",
        "from sklearn import svm\n",
        "from sklearn.model_selection import cross_val_score\n",
        "from sklearn.model_selection import KFold\n",
        "from sklearn.model_selection import LeaveOneOut\n",
        "\n",
        "X = [[0, 0], [1, 1]] \n",
        "Y = [0, 1] \n",
        "clf = tree.DecisionTreeClassifier() \n",
        "clf = clf.fit(X, Y) \n",
        "clf.predict([[2., 2.]]) # classifica o novo exemplo \n",
        "\n",
        "X, y = load_iris(return_X_y=True)\n",
        "#print(X.shape)\n",
        "#print(y)\n",
        "clf = tree.DecisionTreeClassifier(max_depth = 2) \n",
        "clf = clf.fit(X, y) \n",
        "#tree.plot_tree(clf) \n",
        "X_train, X_test, y_train, y_test = train_test_split(X, y, test_size=0.30, random_state=0)\n",
        "#X_test.shape\n",
        "#X_train.shape\n",
        "clf = tree.DecisionTreeClassifier(max_depth = 2)\n",
        "clf = clf.fit(X_train, y_train)\n",
        "tree.plot_tree(clf)\n",
        "resposta = clf.predict(X_test)\n",
        "print('Predição: ')\n",
        "print(resposta)\n",
        "print('\\n')\n",
        "print('groundtruth')\n",
        "print(y_test)\n",
        "\n",
        "cont = 0\n",
        "for i in range (45):\n",
        "  if clf.predict(X_test)[i] == y_test[i]:\n",
        "    cont = cont + 1\n",
        "#print(cont) \n",
        "print('\\n')\n",
        "print('Acc')\n",
        "print(\"{:.2%}\".format((cont/45))) \n",
        "\n",
        "#clf = svm.SVC(kernel='linear', C=1).fit(X_train, y_train)\n",
        "print('\\n')\n",
        "print('holdout cross-validation')\n",
        "#print(clf.score(X_test, y_test))\n",
        "\n",
        "\n",
        "#clf = svm.SVC(kernel='linear', C=1, random_state=42)\n",
        "scores = cross_val_score(clf, X, y, cv=5)\n",
        "print(\"%0.2f de acuracia com desvio padrao de %0.2f\" % (scores.mean(), scores.std()))\n",
        "\n",
        "print('\\nK-fold')\n",
        "X_train, X_test, y_train, y_test =  X[train], X[test], y[train], y[test]\n",
        "kf = KFold(n_splits=4)\n",
        "for train, test in kf.split(X):\n",
        "  #clf = svm.SVC(kernel='linear', C=1)\n",
        "  scores = cross_val_score(clf, X, y)\n",
        "print(\"%0.2f de acuracia com desvio padrao de %0.2f\" % (scores.mean(), scores.std()))\n",
        "    #print(\"%s\\n \\n%s\\n\" % (train, test))\n",
        "\n",
        "print('\\nLeave One Out')\n",
        "\n",
        "loo = LeaveOneOut()\n",
        "for train, test in loo.split(X):\n",
        "  #clf = svm.SVC(kernel='linear', C=1)\n",
        "  scores = cross_val_score(clf, X, y)\n",
        "print(\"%0.2f de acuracia com desvio padrao de %0.2f\" % (scores.mean(), scores.std()))\n",
        "     #print(\"%s %s\" % (train, test))"
      ],
      "execution_count": null,
      "outputs": [
        {
          "output_type": "stream",
          "text": [
            "Predição: \n",
            "[2 1 0 2 0 2 0 1 1 1 2 1 1 1 1 0 1 1 0 0 1 1 0 0 1 0 0 1 1 0 2 1 0 1 2 1 0\n",
            " 2 1 1 2 0 2 0 0]\n",
            "\n",
            "\n",
            "groundtruth\n",
            "[2 1 0 2 0 2 0 1 1 1 2 1 1 1 1 0 1 1 0 0 2 1 0 0 2 0 0 1 1 0 2 1 0 2 2 1 0\n",
            " 1 1 1 2 0 2 0 0]\n",
            "\n",
            "\n",
            "Acc\n",
            "91.11%\n",
            "\n",
            "\n",
            "holdout cross-validation\n",
            "0.93 de acuracia com desvio padrao de 0.05\n",
            "\n",
            "K-fold\n",
            "0.93 de acuracia com desvio padrao de 0.05\n",
            "\n",
            "Leave One Out\n",
            "0.93 de acuracia com desvio padrao de 0.05\n"
          ],
          "name": "stdout"
        },
        {
          "output_type": "display_data",
          "data": {
            "image/png": "[encoded data removed]",
            "text/plain": [
              "<Figure size 432x288 with 1 Axes>"
            ]
          },
          "metadata": {
            "tags": [],
            "needs_background": "light"
          }
        }
      ]
    },
    {
      "cell_type": "markdown",
      "metadata": {
        "id": "Y2tPhgnQjU1u"
      },
      "source": [
        "4"
      ]
    },
    {
      "cell_type": "code",
      "metadata": {
        "colab": {
          "base_uri": "https://localhost:8080/",
          "height": 622
        },
        "id": "B0lZRI59jV21",
        "outputId": "66ec2cd2-d686-46ba-b295-db0c5b1854aa"
      },
      "source": [
        "from sklearn import tree \n",
        "from sklearn.datasets import load_iris \n",
        "from sklearn import tree \n",
        "from sklearn.model_selection import train_test_split\n",
        "\n",
        "import numpy as np\n",
        "from sklearn import svm\n",
        "from sklearn.model_selection import cross_val_score\n",
        "from sklearn.model_selection import KFold\n",
        "from sklearn.model_selection import LeaveOneOut\n",
        "\n",
        "X = [[0, 0], [1, 1]] \n",
        "Y = [0, 1] \n",
        "clf = tree.DecisionTreeClassifier() \n",
        "clf = clf.fit(X, Y) \n",
        "clf.predict([[2., 2.]]) # classifica o novo exemplo \n",
        "\n",
        "X, y = load_iris(return_X_y=True)\n",
        "#print(X.shape)\n",
        "#print(y)\n",
        "clf = tree.DecisionTreeClassifier(max_depth = 4) \n",
        "clf = clf.fit(X, y) \n",
        "#tree.plot_tree(clf) \n",
        "X_train, X_test, y_train, y_test = train_test_split(X, y, test_size=0.30, random_state=0)\n",
        "#X_test.shape\n",
        "#X_train.shape\n",
        "clf = tree.DecisionTreeClassifier(max_depth = 4)\n",
        "clf = clf.fit(X_train, y_train)\n",
        "tree.plot_tree(clf)\n",
        "resposta = clf.predict(X_test)\n",
        "print('Predição: ')\n",
        "print(resposta)\n",
        "print('\\n')\n",
        "print('groundtruth')\n",
        "print(y_test)\n",
        "\n",
        "cont = 0\n",
        "for i in range (45):\n",
        "  if clf.predict(X_test)[i] == y_test[i]:\n",
        "    cont = cont + 1\n",
        "#print(cont) \n",
        "print('\\n')\n",
        "print('Acc')\n",
        "print(\"{:.2%}\".format((cont/45))) \n",
        "\n",
        "#clf = svm.SVC(kernel='linear', C=1).fit(X_train, y_train)\n",
        "print('\\n')\n",
        "print('holdout cross-validation')\n",
        "#print(clf.score(X_test, y_test))\n",
        "\n",
        "\n",
        "#clf = svm.SVC(kernel='linear', C=1, random_state=42)\n",
        "scores = cross_val_score(clf, X, y, cv=5)\n",
        "print(\"%0.2f de acuracia com desvio padrao de %0.2f\" % (scores.mean(), scores.std()))\n",
        "\n",
        "print('\\nK-fold')\n",
        "X_train, X_test, y_train, y_test =  X[train], X[test], y[train], y[test]\n",
        "kf = KFold(n_splits=4)\n",
        "for train, test in kf.split(X):\n",
        "  #clf = svm.SVC(kernel='linear', C=1)\n",
        "  scores = cross_val_score(clf, X, y)\n",
        "print(\"%0.2f de acuracia com desvio padrao de %0.2f\" % (scores.mean(), scores.std()))\n",
        "    #print(\"%s\\n \\n%s\\n\" % (train, test))\n",
        "\n",
        "print('\\nLeave One Out')\n",
        "\n",
        "loo = LeaveOneOut()\n",
        "for train, test in loo.split(X):\n",
        "  #clf = svm.SVC(kernel='linear', C=1)\n",
        "  scores = cross_val_score(clf, X, y)\n",
        "print(\"%0.2f de acuracia com desvio padrao de %0.2f\" % (scores.mean(), scores.std()))\n",
        "     #print(\"%s %s\" % (train, test))"
      ],
      "execution_count": null,
      "outputs": [
        {
          "output_type": "stream",
          "text": [
            "Predição: \n",
            "[2 1 0 2 0 2 0 1 1 1 2 1 1 1 1 0 1 1 0 0 2 1 0 0 2 0 0 1 1 0 2 1 0 2 2 1 0\n",
            " 2 1 1 2 0 2 0 0]\n",
            "\n",
            "\n",
            "groundtruth\n",
            "[2 1 0 2 0 2 0 1 1 1 2 1 1 1 1 0 1 1 0 0 2 1 0 0 2 0 0 1 1 0 2 1 0 2 2 1 0\n",
            " 1 1 1 2 0 2 0 0]\n",
            "\n",
            "\n",
            "Acc\n",
            "97.78%\n",
            "\n",
            "\n",
            "holdout cross-validation\n",
            "0.95 de acuracia com desvio padrao de 0.03\n",
            "\n",
            "K-fold\n",
            "0.96 de acuracia com desvio padrao de 0.03\n",
            "\n",
            "Leave One Out\n",
            "0.95 de acuracia com desvio padrao de 0.03\n"
          ],
          "name": "stdout"
        },
        {
          "output_type": "display_data",
          "data": {
            "image/png": "[encoded data removed]",
            "text/plain": [
              "<Figure size 432x288 with 1 Axes>"
            ]
          },
          "metadata": {
            "tags": [],
            "needs_background": "light"
          }
        }
      ]
    },
    {
      "cell_type": "markdown",
      "metadata": {
        "id": "yL-g9sjtj_85"
      },
      "source": [
        "Arvore com variação de min_samples_split"
      ]
    },
    {
      "cell_type": "markdown",
      "metadata": {
        "id": "PqTqvN4akJwJ"
      },
      "source": [
        "2"
      ]
    },
    {
      "cell_type": "code",
      "metadata": {
        "colab": {
          "base_uri": "https://localhost:8080/",
          "height": 622
        },
        "id": "bLncJ7y8kLMo",
        "outputId": "0f3684ee-52a3-4d1f-919f-d322a2e3777e"
      },
      "source": [
        "from sklearn import tree \n",
        "from sklearn.datasets import load_iris \n",
        "from sklearn import tree \n",
        "from sklearn.model_selection import train_test_split\n",
        "\n",
        "import numpy as np\n",
        "from sklearn import svm\n",
        "from sklearn.model_selection import cross_val_score\n",
        "from sklearn.model_selection import KFold\n",
        "from sklearn.model_selection import LeaveOneOut\n",
        "\n",
        "X = [[0, 0], [1, 1]] \n",
        "Y = [0, 1] \n",
        "clf = tree.DecisionTreeClassifier() \n",
        "clf = clf.fit(X, Y) \n",
        "clf.predict([[2., 2.]]) # classifica o novo exemplo \n",
        "\n",
        "X, y = load_iris(return_X_y=True)\n",
        "#print(X.shape)\n",
        "#print(y)\n",
        "clf = tree.DecisionTreeClassifier(min_samples_split = 2) \n",
        "clf = clf.fit(X, y) \n",
        "#tree.plot_tree(clf) \n",
        "X_train, X_test, y_train, y_test = train_test_split(X, y, test_size=0.30, random_state=0)\n",
        "#X_test.shape\n",
        "#X_train.shape\n",
        "clf = tree.DecisionTreeClassifier(min_samples_split = 2)\n",
        "clf = clf.fit(X_train, y_train)\n",
        "tree.plot_tree(clf)\n",
        "resposta = clf.predict(X_test)\n",
        "print('Predição: ')\n",
        "print(resposta)\n",
        "print('\\n')\n",
        "print('groundtruth')\n",
        "print(y_test)\n",
        "\n",
        "cont = 0\n",
        "for i in range (45):\n",
        "  if clf.predict(X_test)[i] == y_test[i]:\n",
        "    cont = cont + 1\n",
        "#print(cont) \n",
        "print('\\n')\n",
        "print('Acc')\n",
        "print(\"{:.2%}\".format((cont/45))) \n",
        "print('\\n')\n",
        "\n",
        "#clf = svm.SVC(kernel='linear', C=1, random_state=42)\n",
        "print('holdout cross-validation')\n",
        "scores = cross_val_score(clf, X, y, cv=5)\n",
        "print(\"%0.2f de acuracia com desvio padrao de %0.2f\" % (scores.mean(), scores.std()))\n",
        "\n",
        "print('\\nK-fold')\n",
        "X_train, X_test, y_train, y_test =  X[train], X[test], y[train], y[test]\n",
        "kf = KFold(n_splits=4)\n",
        "for train, test in kf.split(X):\n",
        "  #clf = svm.SVC(kernel='linear', C=1)\n",
        "  scores = cross_val_score(clf, X, y)\n",
        "print(\"%0.2f de acuracia com desvio padrao de %0.2f\" % (scores.mean(), scores.std()))\n",
        "    #print(\"%s\\n \\n%s\\n\" % (train, test))\n",
        "\n",
        "print('\\nLeave One Out')\n",
        "\n",
        "loo = LeaveOneOut()\n",
        "for train, test in loo.split(X):\n",
        "  #clf = svm.SVC(kernel='linear', C=1)\n",
        "  scores = cross_val_score(clf, X, y)\n",
        "print(\"%0.2f de acuracia com desvio padrao de %0.2f\" % (scores.mean(), scores.std()))\n",
        "     #print(\"%s %s\" % (train, test))"
      ],
      "execution_count": null,
      "outputs": [
        {
          "output_type": "stream",
          "text": [
            "Predição: \n",
            "[2 1 0 2 0 2 0 1 1 1 2 1 1 1 1 0 1 1 0 0 2 1 0 0 2 0 0 1 1 0 2 1 0 2 2 1 0\n",
            " 2 1 1 2 0 2 0 0]\n",
            "\n",
            "\n",
            "groundtruth\n",
            "[2 1 0 2 0 2 0 1 1 1 2 1 1 1 1 0 1 1 0 0 2 1 0 0 2 0 0 1 1 0 2 1 0 2 2 1 0\n",
            " 1 1 1 2 0 2 0 0]\n",
            "\n",
            "\n",
            "Acc\n",
            "97.78%\n",
            "\n",
            "\n",
            "holdout cross-validation\n",
            "0.97 de acuracia com desvio padrao de 0.04\n",
            "\n",
            "K-fold\n",
            "0.95 de acuracia com desvio padrao de 0.03\n",
            "\n",
            "Leave One Out\n",
            "0.97 de acuracia com desvio padrao de 0.04\n"
          ],
          "name": "stdout"
        },
        {
          "output_type": "display_data",
          "data": {
            "image/png": "[encoded data removed]",
            "text/plain": [
              "<Figure size 432x288 with 1 Axes>"
            ]
          },
          "metadata": {
            "tags": [],
            "needs_background": "light"
          }
        }
      ]
    },
    {
      "cell_type": "markdown",
      "metadata": {
        "id": "5MpXEoy8kioR"
      },
      "source": [
        "10"
      ]
    },
    {
      "cell_type": "code",
      "metadata": {
        "colab": {
          "base_uri": "https://localhost:8080/",
          "height": 605
        },
        "id": "bOipEgnNkjdn",
        "outputId": "c5a2717f-ad84-408f-e68d-e14a752cc786"
      },
      "source": [
        "from sklearn import tree \n",
        "from sklearn.datasets import load_iris \n",
        "from sklearn import tree \n",
        "from sklearn.model_selection import train_test_split\n",
        "\n",
        "import numpy as np\n",
        "from sklearn import svm\n",
        "from sklearn.model_selection import cross_val_score\n",
        "from sklearn.model_selection import KFold\n",
        "from sklearn.model_selection import LeaveOneOut\n",
        "\n",
        "X = [[0, 0], [1, 1]] \n",
        "Y = [0, 1] \n",
        "clf = tree.DecisionTreeClassifier() \n",
        "clf = clf.fit(X, Y) \n",
        "clf.predict([[2., 2.]]) # classifica o novo exemplo \n",
        "\n",
        "X, y = load_iris(return_X_y=True)\n",
        "#print(X.shape)\n",
        "#print(y)\n",
        "clf = tree.DecisionTreeClassifier(min_samples_split = 10) \n",
        "clf = clf.fit(X, y) \n",
        "#tree.plot_tree(clf) \n",
        "X_train, X_test, y_train, y_test = train_test_split(X, y, test_size=0.30, random_state=0)\n",
        "#X_test.shape\n",
        "#X_train.shape\n",
        "clf = tree.DecisionTreeClassifier(min_samples_split = 10)\n",
        "clf = clf.fit(X_train, y_train)\n",
        "tree.plot_tree(clf)\n",
        "resposta = clf.predict(X_test)\n",
        "print('Predição: ')\n",
        "print(resposta)\n",
        "print('\\n')\n",
        "print('groundtruth')\n",
        "print(y_test)\n",
        "\n",
        "cont = 0\n",
        "for i in range (45):\n",
        "  if clf.predict(X_test)[i] == y_test[i]:\n",
        "    cont = cont + 1\n",
        "#print(cont) \n",
        "print('\\n')\n",
        "print('Acc')\n",
        "print(\"{:.2%}\".format((cont/45))) \n",
        "\n",
        "print('\\nholdout cross-validation')\n",
        "#clf = svm.SVC(kernel='linear', C=1, random_state=42)\n",
        "scores = cross_val_score(clf, X, y, cv=5)\n",
        "print(\"%0.2f de acuracia com desvio padrao de %0.2f\" % (scores.mean(), scores.std()))\n",
        "\n",
        "print('\\nK-fold')\n",
        "X_train, X_test, y_train, y_test =  X[train], X[test], y[train], y[test]\n",
        "kf = KFold(n_splits=10)\n",
        "for train, test in kf.split(X):\n",
        "  #clf = svm.SVC(kernel='linear', C=1)\n",
        "  scores = cross_val_score(clf, X, y)\n",
        "print(\"%0.2f de acuracia com desvio padrao de %0.2f\" % (scores.mean(), scores.std()))\n",
        "    #print(\"%s\\n \\n%s\\n\" % (train, test))\n",
        "\n",
        "print('\\nLeave One Out')\n",
        "\n",
        "loo = LeaveOneOut()\n",
        "for train, test in loo.split(X):\n",
        "  #clf = svm.SVC(kernel='linear', C=1)\n",
        "  scores = cross_val_score(clf, X, y)\n",
        "print(\"%0.2f de acuracia com desvio padrao de %0.2f\" % (scores.mean(), scores.std()))\n",
        "     #print(\"%s %s\" % (train, test))"
      ],
      "execution_count": null,
      "outputs": [
        {
          "output_type": "stream",
          "text": [
            "Predição: \n",
            "[2 1 0 2 0 2 0 1 1 1 2 1 1 1 1 0 1 1 0 0 2 1 0 0 2 0 0 1 1 0 2 1 0 2 2 1 0\n",
            " 2 1 1 2 0 2 0 0]\n",
            "\n",
            "\n",
            "groundtruth\n",
            "[2 1 0 2 0 2 0 1 1 1 2 1 1 1 1 0 1 1 0 0 2 1 0 0 2 0 0 1 1 0 2 1 0 2 2 1 0\n",
            " 1 1 1 2 0 2 0 0]\n",
            "\n",
            "\n",
            "Acc\n",
            "97.78%\n",
            "\n",
            "holdout cross-validation\n",
            "0.97 de acuracia com desvio padrao de 0.02\n",
            "\n",
            "K-fold\n",
            "0.97 de acuracia com desvio padrao de 0.02\n",
            "\n",
            "Leave One Out\n",
            "0.97 de acuracia com desvio padrao de 0.02\n"
          ],
          "name": "stdout"
        },
        {
          "output_type": "display_data",
          "data": {
            "image/png": "[encoded data removed]",
            "text/plain": [
              "<Figure size 432x288 with 1 Axes>"
            ]
          },
          "metadata": {
            "tags": [],
            "needs_background": "light"
          }
        }
      ]
    },
    {
      "cell_type": "markdown",
      "metadata": {
        "id": "7zWHe9oklNdp"
      },
      "source": [
        "Existe diferença entre as árvores? "
      ]
    },
    {
      "cell_type": "markdown",
      "metadata": {
        "id": "SQFPYTq3lTl_"
      },
      "source": [
        "R = Sim, existe diferença, pois a medida que vamos modificando os parametros(pesos na arvore de decisão), isso vai alterando a complexidade da arvore, tornando-a com mais ou menos camadas e com pesos diferentes nas folhas, o que interfere diretamente no resultado (acurácia) da arvore de decisão, onde podemos ver que arvores com custo menor(menor complexidade e numero de camadas) podem obter a mesma ou melhor acurácia que arvores com maior grau de complexidade, um otimo exemplo é a variação do splitter\n"
      ]
    },
    {
      "cell_type": "code",
      "metadata": {
        "colab": {
          "base_uri": "https://localhost:8080/",
          "height": 542
        },
        "id": "AjGgSfGRrdCT",
        "outputId": "d3c16872-5ad2-480c-c8ff-d25f88608ae6"
      },
      "source": [
        "import plotly.graph_objects as go\n",
        "\n",
        "\n",
        "open_data = [0.03, 0.03, 0.03, 0.01, 0.03, 0.05, 0.03, 0.03, 0.02]\n",
        "high_data = [0.1, 0.1, 0.1, 0.1, 0.1, 0.1, 0.1, 0.1, 0.1]\n",
        "\n",
        "low_data = [0.0, 0.0, 0.0, 0.0, 0.0, 0.0, 0.0, 0.0, 0.0]\n",
        "close_data = [0.04, 0.03, 0.03, 0.05, 0.04, 0.05, 0.03, 0.04, 0.02]\n",
        "dates = ['A1','A2','A3','A4','A5','A6','A7','A8','A9']\n",
        "\n",
        "fig = go.Figure(data=[go.Candlestick(x=dates,\n",
        "                       open=open_data, high=high_data,\n",
        "                       low=low_data, close=close_data)])\n",
        "\n",
        "fig.show()"
      ],
      "execution_count": null,
      "outputs": [
        {
          "output_type": "display_data",
          "data": {
            "text/html": [
              "<html>\n",
              "<head><meta charset=\"utf-8\" /></head>\n",
              "<body>\n",
              "    <div>\n",
              "            <script src=\"https://cdnjs.cloudflare.com/ajax/libs/mathjax/2.7.5/MathJax.js?config=TeX-AMS-MML_SVG\"></script><script type=\"text/javascript\">if (window.MathJax) {MathJax.Hub.Config({SVG: {font: \"STIX-Web\"}});}</script>\n",
              "                <script type=\"text/javascript\">window.PlotlyConfig = {MathJaxConfig: 'local'};</script>\n",
              "        <script src=\"https://cdn.plot.ly/plotly-latest.min.js\"></script>    \n",
              "            <div id=\"342fabad-4e0a-4ebe-a6a5-862825b259e0\" class=\"plotly-graph-div\" style=\"height:525px; width:100%;\"></div>\n",
              "            <script type=\"text/javascript\">\n",
              "                \n",
              "                    window.PLOTLYENV=window.PLOTLYENV || {};\n",
              "                    \n",
              "                if (document.getElementById(\"342fabad-4e0a-4ebe-a6a5-862825b259e0\")) {\n",
              "                    Plotly.newPlot(\n",
              "                        '342fabad-4e0a-4ebe-a6a5-862825b259e0',\n",
              "                        [{\"close\": [0.04, 0.03, 0.03, 0.05, 0.04, 0.05, 0.03, 0.04, 0.02], \"high\": [0.1, 0.1, 0.1, 0.1, 0.1, 0.1, 0.1, 0.1, 0.1], \"low\": [0.0, 0.0, 0.0, 0.0, 0.0, 0.0, 0.0, 0.0, 0.0], \"open\": [0.03, 0.03, 0.03, 0.01, 0.03, 0.05, 0.03, 0.03, 0.02], \"type\": \"candlestick\", \"x\": [\"A1\", \"A2\", \"A3\", \"A4\", \"A5\", \"A6\", \"A7\", \"A8\", \"A9\"]}],\n",
              "                        {\"template\": {\"data\": {\"bar\": [{\"error_x\": {\"color\": \"#2a3f5f\"}, \"error_y\": {\"color\": \"#2a3f5f\"}, \"marker\": {\"line\": {\"color\": \"#E5ECF6\", \"width\": 0.5}}, \"type\": \"bar\"}], \"barpolar\": [{\"marker\": {\"line\": {\"color\": \"#E5ECF6\", \"width\": 0.5}}, \"type\": \"barpolar\"}], \"carpet\": [{\"aaxis\": {\"endlinecolor\": \"#2a3f5f\", \"gridcolor\": \"white\", \"linecolor\": \"white\", \"minorgridcolor\": \"white\", \"startlinecolor\": \"#2a3f5f\"}, \"baxis\": {\"endlinecolor\": \"#2a3f5f\", \"gridcolor\": \"white\", \"linecolor\": \"white\", \"minorgridcolor\": \"white\", \"startlinecolor\": \"#2a3f5f\"}, \"type\": \"carpet\"}], \"choropleth\": [{\"colorbar\": {\"outlinewidth\": 0, \"ticks\": \"\"}, \"type\": \"choropleth\"}], \"contour\": [{\"colorbar\": {\"outlinewidth\": 0, \"ticks\": \"\"}, \"colorscale\": [[0.0, \"#0d0887\"], [0.1111111111111111, \"#46039f\"], [0.2222222222222222, \"#7201a8\"], [0.3333333333333333, \"#9c179e\"], [0.4444444444444444, \"#bd3786\"], [0.5555555555555556, \"#d8576b\"], [0.6666666666666666, \"#ed7953\"], [0.7777777777777778, \"#fb9f3a\"], [0.8888888888888888, \"#fdca26\"], [1.0, \"#f0f921\"]], \"type\": \"contour\"}], \"contourcarpet\": [{\"colorbar\": {\"outlinewidth\": 0, \"ticks\": \"\"}, \"type\": \"contourcarpet\"}], \"heatmap\": [{\"colorbar\": {\"outlinewidth\": 0, \"ticks\": \"\"}, \"colorscale\": [[0.0, \"#0d0887\"], [0.1111111111111111, \"#46039f\"], [0.2222222222222222, \"#7201a8\"], [0.3333333333333333, \"#9c179e\"], [0.4444444444444444, \"#bd3786\"], [0.5555555555555556, \"#d8576b\"], [0.6666666666666666, \"#ed7953\"], [0.7777777777777778, \"#fb9f3a\"], [0.8888888888888888, \"#fdca26\"], [1.0, \"#f0f921\"]], \"type\": \"heatmap\"}], \"heatmapgl\": [{\"colorbar\": {\"outlinewidth\": 0, \"ticks\": \"\"}, \"colorscale\": [[0.0, \"#0d0887\"], [0.1111111111111111, \"#46039f\"], [0.2222222222222222, \"#7201a8\"], [0.3333333333333333, \"#9c179e\"], [0.4444444444444444, \"#bd3786\"], [0.5555555555555556, \"#d8576b\"], [0.6666666666666666, \"#ed7953\"], [0.7777777777777778, \"#fb9f3a\"], [0.8888888888888888, \"#fdca26\"], [1.0, \"#f0f921\"]], \"type\": \"heatmapgl\"}], \"histogram\": [{\"marker\": {\"colorbar\": {\"outlinewidth\": 0, \"ticks\": \"\"}}, \"type\": \"histogram\"}], \"histogram2d\": [{\"colorbar\": {\"outlinewidth\": 0, \"ticks\": \"\"}, \"colorscale\": [[0.0, \"#0d0887\"], [0.1111111111111111, \"#46039f\"], [0.2222222222222222, \"#7201a8\"], [0.3333333333333333, \"#9c179e\"], [0.4444444444444444, \"#bd3786\"], [0.5555555555555556, \"#d8576b\"], [0.6666666666666666, \"#ed7953\"], [0.7777777777777778, \"#fb9f3a\"], [0.8888888888888888, \"#fdca26\"], [1.0, \"#f0f921\"]], \"type\": \"histogram2d\"}], \"histogram2dcontour\": [{\"colorbar\": {\"outlinewidth\": 0, \"ticks\": \"\"}, \"colorscale\": [[0.0, \"#0d0887\"], [0.1111111111111111, \"#46039f\"], [0.2222222222222222, \"#7201a8\"], [0.3333333333333333, \"#9c179e\"], [0.4444444444444444, \"#bd3786\"], [0.5555555555555556, \"#d8576b\"], [0.6666666666666666, \"#ed7953\"], [0.7777777777777778, \"#fb9f3a\"], [0.8888888888888888, \"#fdca26\"], [1.0, \"#f0f921\"]], \"type\": \"histogram2dcontour\"}], \"mesh3d\": [{\"colorbar\": {\"outlinewidth\": 0, \"ticks\": \"\"}, \"type\": \"mesh3d\"}], \"parcoords\": [{\"line\": {\"colorbar\": {\"outlinewidth\": 0, \"ticks\": \"\"}}, \"type\": \"parcoords\"}], \"pie\": [{\"automargin\": true, \"type\": \"pie\"}], \"scatter\": [{\"marker\": {\"colorbar\": {\"outlinewidth\": 0, \"ticks\": \"\"}}, \"type\": \"scatter\"}], \"scatter3d\": [{\"line\": {\"colorbar\": {\"outlinewidth\": 0, \"ticks\": \"\"}}, \"marker\": {\"colorbar\": {\"outlinewidth\": 0, \"ticks\": \"\"}}, \"type\": \"scatter3d\"}], \"scattercarpet\": [{\"marker\": {\"colorbar\": {\"outlinewidth\": 0, \"ticks\": \"\"}}, \"type\": \"scattercarpet\"}], \"scattergeo\": [{\"marker\": {\"colorbar\": {\"outlinewidth\": 0, \"ticks\": \"\"}}, \"type\": \"scattergeo\"}], \"scattergl\": [{\"marker\": {\"colorbar\": {\"outlinewidth\": 0, \"ticks\": \"\"}}, \"type\": \"scattergl\"}], \"scattermapbox\": [{\"marker\": {\"colorbar\": {\"outlinewidth\": 0, \"ticks\": \"\"}}, \"type\": \"scattermapbox\"}], \"scatterpolar\": [{\"marker\": {\"colorbar\": {\"outlinewidth\": 0, \"ticks\": \"\"}}, \"type\": \"scatterpolar\"}], \"scatterpolargl\": [{\"marker\": {\"colorbar\": {\"outlinewidth\": 0, \"ticks\": \"\"}}, \"type\": \"scatterpolargl\"}], \"scatterternary\": [{\"marker\": {\"colorbar\": {\"outlinewidth\": 0, \"ticks\": \"\"}}, \"type\": \"scatterternary\"}], \"surface\": [{\"colorbar\": {\"outlinewidth\": 0, \"ticks\": \"\"}, \"colorscale\": [[0.0, \"#0d0887\"], [0.1111111111111111, \"#46039f\"], [0.2222222222222222, \"#7201a8\"], [0.3333333333333333, \"#9c179e\"], [0.4444444444444444, \"#bd3786\"], [0.5555555555555556, \"#d8576b\"], [0.6666666666666666, \"#ed7953\"], [0.7777777777777778, \"#fb9f3a\"], [0.8888888888888888, \"#fdca26\"], [1.0, \"#f0f921\"]], \"type\": \"surface\"}], \"table\": [{\"cells\": {\"fill\": {\"color\": \"#EBF0F8\"}, \"line\": {\"color\": \"white\"}}, \"header\": {\"fill\": {\"color\": \"#C8D4E3\"}, \"line\": {\"color\": \"white\"}}, \"type\": \"table\"}]}, \"layout\": {\"annotationdefaults\": {\"arrowcolor\": \"#2a3f5f\", \"arrowhead\": 0, \"arrowwidth\": 1}, \"coloraxis\": {\"colorbar\": {\"outlinewidth\": 0, \"ticks\": \"\"}}, \"colorscale\": {\"diverging\": [[0, \"#8e0152\"], [0.1, \"#c51b7d\"], [0.2, \"#de77ae\"], [0.3, \"#f1b6da\"], [0.4, \"#fde0ef\"], [0.5, \"#f7f7f7\"], [0.6, \"#e6f5d0\"], [0.7, \"#b8e186\"], [0.8, \"#7fbc41\"], [0.9, \"#4d9221\"], [1, \"#276419\"]], \"sequential\": [[0.0, \"#0d0887\"], [0.1111111111111111, \"#46039f\"], [0.2222222222222222, \"#7201a8\"], [0.3333333333333333, \"#9c179e\"], [0.4444444444444444, \"#bd3786\"], [0.5555555555555556, \"#d8576b\"], [0.6666666666666666, \"#ed7953\"], [0.7777777777777778, \"#fb9f3a\"], [0.8888888888888888, \"#fdca26\"], [1.0, \"#f0f921\"]], \"sequentialminus\": [[0.0, \"#0d0887\"], [0.1111111111111111, \"#46039f\"], [0.2222222222222222, \"#7201a8\"], [0.3333333333333333, \"#9c179e\"], [0.4444444444444444, \"#bd3786\"], [0.5555555555555556, \"#d8576b\"], [0.6666666666666666, \"#ed7953\"], [0.7777777777777778, \"#fb9f3a\"], [0.8888888888888888, \"#fdca26\"], [1.0, \"#f0f921\"]]}, \"colorway\": [\"#636efa\", \"#EF553B\", \"#00cc96\", \"#ab63fa\", \"#FFA15A\", \"#19d3f3\", \"#FF6692\", \"#B6E880\", \"#FF97FF\", \"#FECB52\"], \"font\": {\"color\": \"#2a3f5f\"}, \"geo\": {\"bgcolor\": \"white\", \"lakecolor\": \"white\", \"landcolor\": \"#E5ECF6\", \"showlakes\": true, \"showland\": true, \"subunitcolor\": \"white\"}, \"hoverlabel\": {\"align\": \"left\"}, \"hovermode\": \"closest\", \"mapbox\": {\"style\": \"light\"}, \"paper_bgcolor\": \"white\", \"plot_bgcolor\": \"#E5ECF6\", \"polar\": {\"angularaxis\": {\"gridcolor\": \"white\", \"linecolor\": \"white\", \"ticks\": \"\"}, \"bgcolor\": \"#E5ECF6\", \"radialaxis\": {\"gridcolor\": \"white\", \"linecolor\": \"white\", \"ticks\": \"\"}}, \"scene\": {\"xaxis\": {\"backgroundcolor\": \"#E5ECF6\", \"gridcolor\": \"white\", \"gridwidth\": 2, \"linecolor\": \"white\", \"showbackground\": true, \"ticks\": \"\", \"zerolinecolor\": \"white\"}, \"yaxis\": {\"backgroundcolor\": \"#E5ECF6\", \"gridcolor\": \"white\", \"gridwidth\": 2, \"linecolor\": \"white\", \"showbackground\": true, \"ticks\": \"\", \"zerolinecolor\": \"white\"}, \"zaxis\": {\"backgroundcolor\": \"#E5ECF6\", \"gridcolor\": \"white\", \"gridwidth\": 2, \"linecolor\": \"white\", \"showbackground\": true, \"ticks\": \"\", \"zerolinecolor\": \"white\"}}, \"shapedefaults\": {\"line\": {\"color\": \"#2a3f5f\"}}, \"ternary\": {\"aaxis\": {\"gridcolor\": \"white\", \"linecolor\": \"white\", \"ticks\": \"\"}, \"baxis\": {\"gridcolor\": \"white\", \"linecolor\": \"white\", \"ticks\": \"\"}, \"bgcolor\": \"#E5ECF6\", \"caxis\": {\"gridcolor\": \"white\", \"linecolor\": \"white\", \"ticks\": \"\"}}, \"title\": {\"x\": 0.05}, \"xaxis\": {\"automargin\": true, \"gridcolor\": \"white\", \"linecolor\": \"white\", \"ticks\": \"\", \"title\": {\"standoff\": 15}, \"zerolinecolor\": \"white\", \"zerolinewidth\": 2}, \"yaxis\": {\"automargin\": true, \"gridcolor\": \"white\", \"linecolor\": \"white\", \"ticks\": \"\", \"title\": {\"standoff\": 15}, \"zerolinecolor\": \"white\", \"zerolinewidth\": 2}}}},\n",
              "                        {\"responsive\": true}\n",
              "                    ).then(function(){\n",
              "                            \n",
              "var gd = document.getElementById('342fabad-4e0a-4ebe-a6a5-862825b259e0');\n",
              "var x = new MutationObserver(function (mutations, observer) {{\n",
              "        var display = window.getComputedStyle(gd).display;\n",
              "        if (!display || display === 'none') {{\n",
              "            console.log([gd, 'removed!']);\n",
              "            Plotly.purge(gd);\n",
              "            observer.disconnect();\n",
              "        }}\n",
              "}});\n",
              "\n",
              "// Listen for the removal of the full notebook cells\n",
              "var notebookContainer = gd.closest('#notebook-container');\n",
              "if (notebookContainer) {{\n",
              "    x.observe(notebookContainer, {childList: true});\n",
              "}}\n",
              "\n",
              "// Listen for the clearing of the current output cell\n",
              "var outputEl = gd.closest('.output');\n",
              "if (outputEl) {{\n",
              "    x.observe(outputEl, {childList: true});\n",
              "}}\n",
              "\n",
              "                        })\n",
              "                };\n",
              "                \n",
              "            </script>\n",
              "        </div>\n",
              "</body>\n",
              "</html>"
            ]
          },
          "metadata": {
            "tags": []
          }
        }
      ]
    }
  ]
}